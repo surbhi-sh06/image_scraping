{
 "cells": [
  {
   "cell_type": "code",
   "execution_count": 6,
   "id": "298a7eea",
   "metadata": {},
   "outputs": [],
   "source": [
    "import requests  # use to fetch HTML content from web pages \n",
    "import logging #It is used to output log messages to various destinations like the console, files, or even remote servers\n",
    "import os    # use for directories, environment variables, and other operating system-related functionalities \n",
    "from bs4 import BeautifulSoup    #use to scrap data from html or xml pages\n",
    "from  urllib.request import urlopen  #if hv to request server(cloud) using urllib"
   ]
  },
  {
   "cell_type": "code",
   "execution_count": 7,
   "id": "ae859e78",
   "metadata": {},
   "outputs": [],
   "source": [
    "save_dir = \"images/\"\n",
    "if not os.path.exists(save_dir):\n",
    "    os.makedirs(save_dir)"
   ]
  },
  {
   "cell_type": "markdown",
   "id": "b78b9950-5f23-4b59-919e-5f55bcc37bd3",
   "metadata": {},
   "source": [
    "#here using q={query} to search image"
   ]
  },
  {
   "cell_type": "code",
   "execution_count": 8,
   "id": "3a576e8a-e092-4ce7-9b28-e2bf7e6069fe",
   "metadata": {},
   "outputs": [],
   "source": [
    "query=\"lord shiva\"\n",
    "#url = https://www.google.com/search?sca_esv=553677874&rlz=1C1CHBF_enIN996IN996&sxsrf=AB5stBhzQFultxIQNREcYa1vjmYIwo3G3Q:1691127207443&q=lord+shiva&tbm=isch&source=univ&fir=RWgVdwN1UvoAkM%252CdOqoG2SZsd8ItM%252C_%253BFMyn2WBaFnrENM%252CS2h1U6V0K5ax2M%252C_%253Btw55T9IzylnXKM%252CYM-A8t2nVwlrkM%252C_%253BGdEXFdMZOcTlGM%252CLXtj5LcFTfe1bM%252C_%253B-0abKL0mJUX5DM%252C3EsRCOGyRsprOM%252C_%253BIarZYcYpsxSM9M%252Cqmh8SPl6AHguIM%252C_%253BuHgInOI8H3pMoM%252CIiHhgw3UaEmnPM%252C_%253BScUj0was8z-ehM%252Cb6HNyCJT7zVuDM%252C_%253BylwyzP7iFDITQM%252CktICD1845SgrzM%252C_%253BTG4523dH1RvW6M%252C2gILM59-QIEPzM%252C_%253BG9LZNPPYMWEBXM%252Ci3nsmEHNSiNtDM%252C_%253BPZDZtpXYXaEtXM%252C_jqWytiRZi7XTM%252C_%253BDuNDDe7xKsCI3M%252C0pkp0U3J7qNZIM%252C_%253BDjSiKo3eMKEQYM%252C-2cvEoq2nxrA2M%252C_%253BzV1Vy4WL80vvVM%252CGONdxhq_1Q-LlM%252C_%253Bp2My29wJ_Wm12M%252CkIaMrjbBntC1OM%252C_%253BRZ6AbWysK4KD3M%252CdxYWpsoGJr2MCM%252C_%253BDxZIj8mKN1a4RM%252CcLAiqma4Sst_aM%252C_&usg=AI4_-kQmiZh5sJL-nUolxOPJ94n8dLjKDQ&sa=X&ved=2ahUKEwjvtODjo8KAAxXFT2wGHb1vBtwQjJkEegQIahAC&biw=1280&bih=563&dpr=1.5"
   ]
  },
  {
   "cell_type": "code",
   "execution_count": 27,
   "id": "ff9cefbb-04cd-4f23-8cee-2caf2e9655bb",
   "metadata": {},
   "outputs": [],
   "source": [
    "response=requests.get(f\"https://www.google.com/search?sca_esv=553677874&rlz=1C1CHBF_enIN996IN996&sxsrf=AB5stBhzQFultxIQNREcYa1vjmYIwo3G3Q:1691127207443&q={query}&tbm=isch&source=univ&fir=RWgVdwN1UvoAkM%252CdOqoG2SZsd8ItM%252C_%253BFMyn2WBaFnrENM%252CS2h1U6V0K5ax2M%252C_%253Btw55T9IzylnXKM%252CYM-A8t2nVwlrkM%252C_%253BGdEXFdMZOcTlGM%252CLXtj5LcFTfe1bM%252C_%253B-0abKL0mJUX5DM%252C3EsRCOGyRsprOM%252C_%253BIarZYcYpsxSM9M%252Cqmh8SPl6AHguIM%252C_%253BuHgInOI8H3pMoM%252CIiHhgw3UaEmnPM%252C_%253BScUj0was8z-ehM%252Cb6HNyCJT7zVuDM%252C_%253BylwyzP7iFDITQM%252CktICD1845SgrzM%252C_%253BTG4523dH1RvW6M%252C2gILM59-QIEPzM%252C_%253BG9LZNPPYMWEBXM%252Ci3nsmEHNSiNtDM%252C_%253BPZDZtpXYXaEtXM%252C_jqWytiRZi7XTM%252C_%253BDuNDDe7xKsCI3M%252C0pkp0U3J7qNZIM%252C_%253BDjSiKo3eMKEQYM%252C-2cvEoq2nxrA2M%252C_%253BzV1Vy4WL80vvVM%252CGONdxhq_1Q-LlM%252C_%253Bp2My29wJ_Wm12M%252CkIaMrjbBntC1OM%252C_%253BRZ6AbWysK4KD3M%252CdxYWpsoGJr2MCM%252C_%253BDxZIj8mKN1a4RM%252CcLAiqma4Sst_aM%252C_&usg=AI4_-kQmiZh5sJL-nUolxOPJ94n8dLjKDQ&sa=X&ved=2ahUKEwjvtODjo8KAAxXFT2wGHb1vBtwQjJkEegQIahAC&biw=1280&bih=563&dpr=1.5\")"
   ]
  },
  {
   "cell_type": "code",
   "execution_count": 28,
   "id": "b996433f-217e-4488-a956-3f3783240866",
   "metadata": {},
   "outputs": [
    {
     "data": {
      "text/plain": [
       "<Response [200]>"
      ]
     },
     "execution_count": 28,
     "metadata": {},
     "output_type": "execute_result"
    }
   ],
   "source": [
    "response"
   ]
  },
  {
   "cell_type": "code",
   "execution_count": 29,
   "id": "99a35c5f-e12b-4e4d-bbbd-5f41f3bb0177",
   "metadata": {},
   "outputs": [],
   "source": [
    "soup=BeautifulSoup(response.content,\"html.parser\")  #fetching web content(image url pages) in my system"
   ]
  },
  {
   "cell_type": "code",
   "execution_count": 30,
   "id": "07f7b63c-bab5-4770-ab40-561d85d145af",
   "metadata": {},
   "outputs": [
    {
     "data": {
      "text/plain": [
       "<!DOCTYPE html PUBLIC \"-//WAPFORUM//DTD XHTML Mobile 1.0//EN\" \"http://www.wapforum.org/DTD/xhtml-mobile10.dtd\">\n",
       "<html lang=\"en-IN\" xmlns=\"http://www.w3.org/1999/xhtml\"><head><meta content=\"application/xhtml+xml; charset=utf-8\" http-equiv=\"Content-Type\"/><meta content=\"no-cache\" name=\"Cache-Control\"/><title>lord shiva - Google Search</title><style>a{text-decoration:none;color:inherit}a:hover{text-decoration:underline}a img{border:0}body{font-family:arial,sans-serif;padding:8px;margin:0 auto;max-width:700px;min-width:240px;}.FbhRzb{border-left:thin solid #dadce0;border-right:thin solid #dadce0;border-top:thin solid #dadce0;height:40px;overflow:hidden}.n692Zd{margin-bottom:10px}.cvifge{height:40px;border-spacing:0}.QvGUP{height:40px;padding:0 8px 0 8px;vertical-align:top}.O4cRJf{height:40px;width:100%;padding:0;padding-right:16px}.O1ePr{height:40px;padding:0;vertical-align:top}.kgJEQe{height:36px;width:98px;vertical-align:top;margin-top:4px}.lXLRf{vertical-align:top}.MhzMZd{border:0;vertical-align:middle;font-size:14px;height:40px;padding:0;width:100%;padding-left:16px}.xB0fq{height:40px;border:none;font-size:14px;background-color:#1a73e8;color:#fff;padding:0 16px;margin:0;vertical-align:top;cursor:pointer}.xB0fq:focus{border:1px solid #1a73e8}.M7pB2{border:thin solid #dadce0;margin:0 0 3px 0;font-size:13px;font-weight:500;height:40px}.euZec{width:100%;height:40px;text-align:center;border-spacing:0}table.euZec td{padding:0;width:25%}.QIqI7{display:inline-block;padding-top:4px;font-weight:bold;color:#4285f4}.EY24We{border-bottom:2px solid #4285f4}.CsQyDc{display:inline-block;color:#70757a}.TuS8Ad{font-size:14px}.HddGcc{padding:8px;color:#70757a}.dzp8ae{font-weight:bold;color:#3c4043}.rEM8G{color:#70757a}.bookcf{table-layout:fixed;width:100%;border-spacing:0}.InWNIe{text-align:center}.uZgmoc{border:thin solid #dadce0;color:#70757a;font-size:14px;text-align:center;table-layout:fixed;width:100%}.frGj1b{display:block;padding:12px 0 12px 0;width:100%}.BnJWBc{text-align:center;padding:6px 0 13px 0;height:35px}.e3goi{vertical-align:top;padding:0;height:180px}.GpQGbf{margin:auto;border-collapse:collapse;border-spacing:0;width:100%}</style></head><body><style>.X6ZCif{color:#202124;font-size:11px;line-height:16px;display:inline-block;padding-top:2px;overflow:hidden;padding-bottom:4px;width:100%}.TwVfHd{border-radius:16px;border:thin solid #dadce0;display:inline-block;padding:8px 8px;margin-right:8px;margin-bottom:4px}.yekiAe{background-color:#dadce0}.mnTahd{width:100%}.ezO2md{border:thin solid #dadce0;padding:12px 16px 12px 16px;margin-bottom:10px;font-family:arial,sans-serif}.lIMUZd{font-family:arial,sans-serif}.IkMU6e{border-spacing:0}.SjCsie{width:100%}.EnarA{text-align:center}.NZWO1b{width:162px;height:140px;line-height:140px;overflow:'hidden';text-align:center}.yWs4tf{text-align:center;margin:auto;vertical-align:middle;max-width:162px;max-height:140px}.jB2rPd{padding-top:2px;padding-bottom:8px;}.fYyStc{word-break:break-word}.ynsChf{display:block;white-space:nowrap;overflow:hidden;text-overflow:ellipsis}.Fj3V3b{color:#1967d2;font-size:14px;line-height:20px}.FrIlee{color:#202124;font-size:11px;line-height:16px}.F9iS2e{color:#70757a;font-size:11px;line-height:16px}.WMQ2Le{color:#70757a;font-size:12px;line-height:16px}.x3G5ab{color:#202124;font-size:12px;line-height:16px}.fuLhoc{color:#1967d2;font-size:16px;line-height:20px}.epoveb{font-size:24px;line-height:28px;font-weight:400;color:#202124}.dXDvrc{color:#0d652d;font-size:14px;line-height:20px;word-wrap:break-word}.dloBPe{font-weight:bold}.YVIcad{color:#70757a}.JkVVdd{color:#ea4335}.oXZRFd{color:#ea4335}.MQHtg{color:#fbbc04}.pyMRrb{color:#1e8e3e}.EtTZid{color:#1e8e3e}.M3vVJe{color:#1967d2}.qXLe6d{display:block}.NHQNef{font-style:italic}.Cb8Z7c{white-space:pre}a.ZWRArf{text-decoration:none}a .CVA68e:hover{text-decoration:underline}</style><div class=\"n692Zd\"><div class=\"BnJWBc\"><a class=\"lXLRf\" href=\"/?sa=X&amp;sca_esv=553677874&amp;rlz=1C1CHBF_enIN996IN996&amp;biw=1280&amp;bih=563&amp;output=images&amp;ie=UTF-8&amp;tbm=isch&amp;ved=0ahUKEwiewNCCpcKAAxUCfnAKHVuRDoIQPAgC\"><img alt=\"Google\" class=\"kgJEQe\" src=\"/images/branding/searchlogo/1x/googlelogo_desk_heirloom_color_150x55dp.gif\"/></a></div><div class=\"FbhRzb\"><form action=\"/search\"><input name=\"sca_esv\" type=\"hidden\" value=\"553677874\"/><input name=\"rlz\" type=\"hidden\" value=\"1C1CHBF_enIN996IN996\"/><input name=\"biw\" type=\"hidden\" value=\"1280\"/><input name=\"bih\" type=\"hidden\" value=\"563\"/><input name=\"ie\" type=\"hidden\" value=\"ISO-8859-1\"/><input name=\"tbm\" type=\"hidden\" value=\"isch\"/><input name=\"oq\" type=\"hidden\"/><input name=\"aqs\" type=\"hidden\"/><table class=\"cvifge\"><tr><td class=\"O4cRJf\"><input class=\"MhzMZd\" name=\"q\" type=\"text\" value=\"lord shiva\"/></td><td class=\"O1ePr\"><input class=\"xB0fq\" type=\"submit\" value=\"Search\"/></td></tr></table></form></div><div class=\"M7pB2\"><table class=\"euZec\"><tbody><tr><td><a class=\"CsQyDc\" href=\"/search?q=lord+shiva&amp;sca_esv=553677874&amp;rlz=1C1CHBF_enIN996IN996&amp;biw=1280&amp;bih=563&amp;ie=UTF-8&amp;source=lnms&amp;sa=X&amp;ved=0ahUKEwiewNCCpcKAAxUCfnAKHVuRDoIQ_AUIBCgA\">ALL</a></td><td class=\"EY24We\"><span class=\"QIqI7\">IMAGES</span></td><td><a class=\"CsQyDc\" href=\"/search?q=lord+shiva&amp;sca_esv=553677874&amp;rlz=1C1CHBF_enIN996IN996&amp;biw=1280&amp;bih=563&amp;ie=UTF-8&amp;tbm=nws&amp;source=lnms&amp;sa=X&amp;ved=0ahUKEwiewNCCpcKAAxUCfnAKHVuRDoIQ_AUIBigC\">NEWS</a></td><td><a class=\"CsQyDc\" href=\"/search?q=lord+shiva&amp;sca_esv=553677874&amp;rlz=1C1CHBF_enIN996IN996&amp;biw=1280&amp;bih=563&amp;ie=UTF-8&amp;tbm=vid&amp;source=lnms&amp;sa=X&amp;ved=0ahUKEwiewNCCpcKAAxUCfnAKHVuRDoIQ_AUIBygD\">VIDEOS</a></td></tr></tbody></table></div></div><div class=\"X6ZCif\"><a class=\"TwVfHd\" href=\"/search?sca_esv=553677874&amp;rlz=1C1CHBF_enIN996IN996&amp;biw=1280&amp;bih=563&amp;ie=UTF-8&amp;tbm=isch&amp;q=lord+shiva&amp;chips=q:lord+shiva,g_1:wallpaper&amp;sa=X&amp;ved=0ahUKEwiewNCCpcKAAxUCfnAKHVuRDoIQ4lYICygA\">wallpaper</a><a class=\"TwVfHd\" href=\"/search?sca_esv=553677874&amp;rlz=1C1CHBF_enIN996IN996&amp;biw=1280&amp;bih=563&amp;ie=UTF-8&amp;tbm=isch&amp;q=lord+shiva&amp;chips=q:lord+shiva,g_1:animated&amp;sa=X&amp;ved=0ahUKEwiewNCCpcKAAxUCfnAKHVuRDoIQ4lYIDCgB\">animated</a><a class=\"TwVfHd\" href=\"/search?sca_esv=553677874&amp;rlz=1C1CHBF_enIN996IN996&amp;biw=1280&amp;bih=563&amp;ie=UTF-8&amp;tbm=isch&amp;q=lord+shiva&amp;chips=q:lord+shiva,g_1:rudra&amp;sa=X&amp;ved=0ahUKEwiewNCCpcKAAxUCfnAKHVuRDoIQ4lYIDSgC\">rudra</a><a class=\"TwVfHd\" href=\"/search?sca_esv=553677874&amp;rlz=1C1CHBF_enIN996IN996&amp;biw=1280&amp;bih=563&amp;ie=UTF-8&amp;tbm=isch&amp;q=lord+shiva&amp;chips=q:lord+shiva,g_1:painting&amp;sa=X&amp;ved=0ahUKEwiewNCCpcKAAxUCfnAKHVuRDoIQ4lYIDigD\">painting</a><a class=\"TwVfHd\" href=\"/search?sca_esv=553677874&amp;rlz=1C1CHBF_enIN996IN996&amp;biw=1280&amp;bih=563&amp;ie=UTF-8&amp;tbm=isch&amp;q=lord+shiva&amp;chips=q:lord+shiva,g_1:full+hd&amp;sa=X&amp;ved=0ahUKEwiewNCCpcKAAxUCfnAKHVuRDoIQ4lYIDygE\">full hd</a><a class=\"TwVfHd\" href=\"/search?sca_esv=553677874&amp;rlz=1C1CHBF_enIN996IN996&amp;biw=1280&amp;bih=563&amp;ie=UTF-8&amp;tbm=isch&amp;q=lord+shiva&amp;chips=q:lord+shiva,g_1:angry&amp;sa=X&amp;ved=0ahUKEwiewNCCpcKAAxUCfnAKHVuRDoIQ4lYIECgF\">angry</a><a class=\"TwVfHd\" href=\"/search?sca_esv=553677874&amp;rlz=1C1CHBF_enIN996IN996&amp;biw=1280&amp;bih=563&amp;ie=UTF-8&amp;tbm=isch&amp;q=lord+shiva&amp;chips=q:lord+shiva,g_1:sketch&amp;sa=X&amp;ved=0ahUKEwiewNCCpcKAAxUCfnAKHVuRDoIQ4lYIESgG\">sketch</a><a class=\"TwVfHd\" href=\"/search?sca_esv=553677874&amp;rlz=1C1CHBF_enIN996IN996&amp;biw=1280&amp;bih=563&amp;ie=UTF-8&amp;tbm=isch&amp;q=lord+shiva&amp;chips=q:lord+shiva,g_1:powerful&amp;sa=X&amp;ved=0ahUKEwiewNCCpcKAAxUCfnAKHVuRDoIQ4lYIEigH\">powerful</a><a class=\"TwVfHd\" href=\"/search?sca_esv=553677874&amp;rlz=1C1CHBF_enIN996IN996&amp;biw=1280&amp;bih=563&amp;ie=UTF-8&amp;tbm=isch&amp;q=lord+shiva&amp;chips=q:lord+shiva,g_1:1080p&amp;sa=X&amp;ved=0ahUKEwiewNCCpcKAAxUCfnAKHVuRDoIQ4lYIEygI\">1080p</a><a class=\"TwVfHd\" href=\"/search?sca_esv=553677874&amp;rlz=1C1CHBF_enIN996IN996&amp;biw=1280&amp;bih=563&amp;ie=UTF-8&amp;tbm=isch&amp;q=lord+shiva&amp;chips=q:lord+shiva,g_1:drawing&amp;sa=X&amp;ved=0ahUKEwiewNCCpcKAAxUCfnAKHVuRDoIQ4lYIFCgJ\">drawing</a></div><div><table class=\"GpQGbf\"><tr><td align=\"center\" class=\"e3goi\"><div class=\"mnTahd\"> <div> <div class=\"lIMUZd\"><div><table class=\"IkMU6e\"><tr><td><a href=\"/url?q=https://en.wikipedia.org/wiki/Shiva&amp;sa=U&amp;ved=2ahUKEwiewNCCpcKAAxUCfnAKHVuRDoIQqoUBegQIAhAB&amp;usg=AOvVaw2UWz2TgC6gk9hGesV5pVTS\"><div class=\"NZWO1b\"><img alt=\"\" class=\"yWs4tf\" src=\"https://encrypted-tbn0.gstatic.com/images?q=tbn:ANd9GcTLNdfjEQVCuRW9p7XOh3STeNoHneCuZHGWDt-bovDbXp2xsqkdioMe4amOEa4&amp;s\"/></div></a></td></tr><tr><td><a href=\"/url?q=https://en.wikipedia.org/wiki/Shiva&amp;sa=U&amp;ved=2ahUKEwiewNCCpcKAAxUCfnAKHVuRDoIQr4kDegQIAhAC&amp;usg=AOvVaw0QB8b4ObLfmvF_qMDraVfX\"><div class=\"jB2rPd\"> <span class=\"qXLe6d x3G5ab\"> <span class=\"fYyStc\">Shiva - Wikipedia</span> </span> <span class=\"qXLe6d F9iS2e\"> <span class=\"fYyStc\">en.wikipedia.org</span> </span> </div></a></td></tr></table></div></div> </div> </div></td><td align=\"center\" class=\"e3goi\"><div class=\"mnTahd\"> <div> <div class=\"lIMUZd\"><div><table class=\"IkMU6e\"><tr><td><a href=\"/url?q=https://www.flipkart.com/lord-shiva-family-wall-poster-shivaji-hd-room-decor-photographic-paper/p/itm800ee82bd4be0&amp;sa=U&amp;ved=2ahUKEwiewNCCpcKAAxUCfnAKHVuRDoIQqoUBegQIExAB&amp;usg=AOvVaw2X9XT8K_b592clLt9yA8ss\"><div class=\"NZWO1b\"><img alt=\"\" class=\"yWs4tf\" src=\"https://encrypted-tbn0.gstatic.com/images?q=tbn:ANd9GcQ267AtJL5NMdpduBTUNLdmBnBuupTaQQA3YBQsK39283kAODiKQgl0qMSvWYE&amp;s\"/></div></a></td></tr><tr><td><a href=\"/url?q=https://www.flipkart.com/lord-shiva-family-wall-poster-shivaji-hd-room-decor-photographic-paper/p/itm800ee82bd4be0&amp;sa=U&amp;ved=2ahUKEwiewNCCpcKAAxUCfnAKHVuRDoIQr4kDegQIExAC&amp;usg=AOvVaw3Jv_NCerjto4Py72FApup3\"><div class=\"jB2rPd\"> <span class=\"qXLe6d x3G5ab\"> <span class=\"fYyStc\">Lord Shiva Family Wall...</span> </span> <span class=\"qXLe6d F9iS2e\"> <span class=\"fYyStc\">www.flipkart.com</span> </span> </div></a></td></tr></table></div></div> </div> </div></td><td align=\"center\" class=\"e3goi\"><div class=\"mnTahd\"> <div> <div class=\"lIMUZd\"><div><table class=\"IkMU6e\"><tr><td><a href=\"/url?q=https://pixabay.com/images/search/lord%2520shiva/&amp;sa=U&amp;ved=2ahUKEwiewNCCpcKAAxUCfnAKHVuRDoIQqoUBegQIEhAB&amp;usg=AOvVaw1KpLTBYv_kDEvBc1zmMRMh\"><div class=\"NZWO1b\"><img alt=\"\" class=\"yWs4tf\" src=\"https://encrypted-tbn0.gstatic.com/images?q=tbn:ANd9GcRyOZcatmHTvZH47YyUnUj9KtcSMyzPDr40YgBt3qmYFaIO5hhwrJtEkPcbEQ&amp;s\"/></div></a></td></tr><tr><td><a href=\"/url?q=https://pixabay.com/images/search/lord%2520shiva/&amp;sa=U&amp;ved=2ahUKEwiewNCCpcKAAxUCfnAKHVuRDoIQr4kDegQIEhAC&amp;usg=AOvVaw1XXMC9HIJ9mApbAHLyVt3J\"><div class=\"jB2rPd\"> <span class=\"qXLe6d x3G5ab\"> <span class=\"fYyStc\">50+ Free Lord Shiva &amp; Shiva...</span> </span> <span class=\"qXLe6d F9iS2e\"> <span class=\"fYyStc\">pixabay.com</span> </span> </div></a></td></tr></table></div></div> </div> </div></td><td align=\"center\" class=\"e3goi\"><div class=\"mnTahd\"> <div> <div class=\"lIMUZd\"><div><table class=\"IkMU6e\"><tr><td><a href=\"/url?q=https://recipes.timesofindia.com/web-stories/maha-shivratri-2023-9-foods-that-lord-shiva-loves/photostory/97992424.cms&amp;sa=U&amp;ved=2ahUKEwiewNCCpcKAAxUCfnAKHVuRDoIQqoUBegQIEBAB&amp;usg=AOvVaw3zLwSNVTJm7vd8FjIwQ4OH\"><div class=\"NZWO1b\"><img alt=\"\" class=\"yWs4tf\" src=\"https://encrypted-tbn0.gstatic.com/images?q=tbn:ANd9GcThR7JAtYomFgw9Id1ielIIzvqct2kA5m37yRLi0BjUPsP_ChnbjvSdwhZn2w&amp;s\"/></div></a></td></tr><tr><td><a href=\"/url?q=https://recipes.timesofindia.com/web-stories/maha-shivratri-2023-9-foods-that-lord-shiva-loves/photostory/97992424.cms&amp;sa=U&amp;ved=2ahUKEwiewNCCpcKAAxUCfnAKHVuRDoIQr4kDegQIEBAC&amp;usg=AOvVaw0G4QT4cL5UhoYiotrYoRwe\"><div class=\"jB2rPd\"> <span class=\"qXLe6d x3G5ab\"> <span class=\"fYyStc\">Maha Shivratri 2023: 9...</span> </span> <span class=\"qXLe6d F9iS2e\"> <span class=\"fYyStc\">recipes.timesofindia.com</span> </span> </div></a></td></tr></table></div></div> </div> </div></td></tr><tr><td align=\"center\" class=\"e3goi\"><div class=\"mnTahd\"> <div> <div class=\"lIMUZd\"><div><table class=\"IkMU6e\"><tr><td><a href=\"/url?q=https://www.amazon.in/Art-Store-Meditation-Painting-Acrylic/dp/B07D2398VR&amp;sa=U&amp;ved=2ahUKEwiewNCCpcKAAxUCfnAKHVuRDoIQqoUBegQIChAB&amp;usg=AOvVaw1Q1lp14r5vExUv62Z1--lh\"><div class=\"NZWO1b\"><img alt=\"\" class=\"yWs4tf\" src=\"https://encrypted-tbn0.gstatic.com/images?q=tbn:ANd9GcTzrcZm0wCFwyLYiBakY2eAJ4ashhCbecC4EMqdaRmcAIpGu9TQSMTsQYEtmHQ&amp;s\"/></div></a></td></tr><tr><td><a href=\"/url?q=https://www.amazon.in/Art-Store-Meditation-Painting-Acrylic/dp/B07D2398VR&amp;sa=U&amp;ved=2ahUKEwiewNCCpcKAAxUCfnAKHVuRDoIQr4kDegQIChAC&amp;usg=AOvVaw3l8XXZt3XoNY7EeliYi5hs\"><div class=\"jB2rPd\"> <span class=\"qXLe6d x3G5ab\"> <span class=\"fYyStc\">Art n Store: Lord Shiva in...</span> </span> <span class=\"qXLe6d F9iS2e\"> <span class=\"fYyStc\">www.amazon.in</span> </span> </div></a></td></tr></table></div></div> </div> </div></td><td align=\"center\" class=\"e3goi\"><div class=\"mnTahd\"> <div> <div class=\"lIMUZd\"><div><table class=\"IkMU6e\"><tr><td><a href=\"/url?q=https://www.mindcontroversy.com/how-to-worship-lord-shiva/&amp;sa=U&amp;ved=2ahUKEwiewNCCpcKAAxUCfnAKHVuRDoIQqoUBegQIDhAB&amp;usg=AOvVaw2RNPrvL15sqzaEnMBqRd7u\"><div class=\"NZWO1b\"><img alt=\"\" class=\"yWs4tf\" src=\"https://encrypted-tbn0.gstatic.com/images?q=tbn:ANd9GcQYQ_4UnGesc115y-kWxKL5y0P1CLP9cUDcVqK4cTmY-lz4YGVCuyRePN74dw&amp;s\"/></div></a></td></tr><tr><td><a href=\"/url?q=https://www.mindcontroversy.com/how-to-worship-lord-shiva/&amp;sa=U&amp;ved=2ahUKEwiewNCCpcKAAxUCfnAKHVuRDoIQr4kDegQIDhAC&amp;usg=AOvVaw007Kopt-SFtP7n3ASfyIif\"><div class=\"jB2rPd\"> <span class=\"qXLe6d x3G5ab\"> <span class=\"fYyStc\">How to Worship Lord Shiva |...</span> </span> <span class=\"qXLe6d F9iS2e\"> <span class=\"fYyStc\">www.mindcontroversy.com</span> </span> </div></a></td></tr></table></div></div> </div> </div></td><td align=\"center\" class=\"e3goi\"><div class=\"mnTahd\"> <div> <div class=\"lIMUZd\"><div><table class=\"IkMU6e\"><tr><td><a href=\"/url?q=https://www.amazon.in/Animated-Religious-Cupboards-Institutes-Interior/dp/B092JGNQZW&amp;sa=U&amp;ved=2ahUKEwiewNCCpcKAAxUCfnAKHVuRDoIQqoUBegQIDBAB&amp;usg=AOvVaw2NRW8APvInAYHZwVAHzpoi\"><div class=\"NZWO1b\"><img alt=\"\" class=\"yWs4tf\" src=\"https://encrypted-tbn0.gstatic.com/images?q=tbn:ANd9GcQJDmryqwDLx6aRKmi_ebDXT5nLtkD3ISQMYE4QO8LCfVEcYETRSBNj0v-MPg&amp;s\"/></div></a></td></tr><tr><td><a href=\"/url?q=https://www.amazon.in/Animated-Religious-Cupboards-Institutes-Interior/dp/B092JGNQZW&amp;sa=U&amp;ved=2ahUKEwiewNCCpcKAAxUCfnAKHVuRDoIQr4kDegQIDBAC&amp;usg=AOvVaw1G9TwzbAdOrITvpzifPmKl\"><div class=\"jB2rPd\"> <span class=\"qXLe6d x3G5ab\"> <span class=\"fYyStc\">Animated Religious Wall...</span> </span> <span class=\"qXLe6d F9iS2e\"> <span class=\"fYyStc\">www.amazon.in</span> </span> </div></a></td></tr></table></div></div> </div> </div></td><td align=\"center\" class=\"e3goi\"><div class=\"mnTahd\"> <div> <div class=\"lIMUZd\"><div><table class=\"IkMU6e\"><tr><td><a href=\"/url?q=https://nepalyogahome.com/lord-shiva-the-founder-of-yoga/&amp;sa=U&amp;ved=2ahUKEwiewNCCpcKAAxUCfnAKHVuRDoIQqoUBegQICRAB&amp;usg=AOvVaw0kgu8MdV0dK5Pi4ivyXW17\"><div class=\"NZWO1b\"><img alt=\"\" class=\"yWs4tf\" src=\"https://encrypted-tbn0.gstatic.com/images?q=tbn:ANd9GcRoboWEsu45sGAHT6k24Y9GyJsoIHG6SY7Wo5AXeMEitzodgHlCqI-_MzTjmw&amp;s\"/></div></a></td></tr><tr><td><a href=\"/url?q=https://nepalyogahome.com/lord-shiva-the-founder-of-yoga/&amp;sa=U&amp;ved=2ahUKEwiewNCCpcKAAxUCfnAKHVuRDoIQr4kDegQICRAC&amp;usg=AOvVaw1H6qJk2XjCEttmOnZwPZKX\"><div class=\"jB2rPd\"> <span class=\"qXLe6d x3G5ab\"> <span class=\"fYyStc\">Lord Shiva- Founder of Yoga...</span> </span> <span class=\"qXLe6d F9iS2e\"> <span class=\"fYyStc\">nepalyogahome.com</span> </span> </div></a></td></tr></table></div></div> </div> </div></td></tr><tr><td align=\"center\" class=\"e3goi\"><div class=\"mnTahd\"> <div> <div class=\"lIMUZd\"><div><table class=\"IkMU6e\"><tr><td><a href=\"/url?q=https://mobcup.net/wallpapers/lord-shiva-animated&amp;sa=U&amp;ved=2ahUKEwiewNCCpcKAAxUCfnAKHVuRDoIQqoUBegQIDRAB&amp;usg=AOvVaw2v36_ygVnbzHavAdoiej8A\"><div class=\"NZWO1b\"><img alt=\"\" class=\"yWs4tf\" src=\"https://encrypted-tbn0.gstatic.com/images?q=tbn:ANd9GcQfpcH2IsFP1gCZvcve9ys82qEdiNALDFvb_AL_QeJckYM8mjURbvbmuvbikg&amp;s\"/></div></a></td></tr><tr><td><a href=\"/url?q=https://mobcup.net/wallpapers/lord-shiva-animated&amp;sa=U&amp;ved=2ahUKEwiewNCCpcKAAxUCfnAKHVuRDoIQr4kDegQIDRAC&amp;usg=AOvVaw0VbmcSSnYrEfsSked8_qOQ\"><div class=\"jB2rPd\"> <span class=\"qXLe6d x3G5ab\"> <span class=\"fYyStc\">Lord shiva animated...</span> </span> <span class=\"qXLe6d F9iS2e\"> <span class=\"fYyStc\">mobcup.net</span> </span> </div></a></td></tr></table></div></div> </div> </div></td><td align=\"center\" class=\"e3goi\"><div class=\"mnTahd\"> <div> <div class=\"lIMUZd\"><div><table class=\"IkMU6e\"><tr><td><a href=\"/url?q=https://in.pinterest.com/dharmeshfichadi/lord-shiva-the-eternal-god/&amp;sa=U&amp;ved=2ahUKEwiewNCCpcKAAxUCfnAKHVuRDoIQqoUBegQICxAB&amp;usg=AOvVaw39-mXan4XLAimSVOEv5POy\"><div class=\"NZWO1b\"><img alt=\"\" class=\"yWs4tf\" src=\"https://encrypted-tbn0.gstatic.com/images?q=tbn:ANd9GcS2-LiHKRc9CaRUCPUfXf5-fK5WzulgK9HohwIHI1xPJ90KkHO3TpKL-hUjEg&amp;s\"/></div></a></td></tr><tr><td><a href=\"/url?q=https://in.pinterest.com/dharmeshfichadi/lord-shiva-the-eternal-god/&amp;sa=U&amp;ved=2ahUKEwiewNCCpcKAAxUCfnAKHVuRDoIQr4kDegQICxAC&amp;usg=AOvVaw3CP9KcYom2BsJG3RoymDIT\"><div class=\"jB2rPd\"> <span class=\"qXLe6d x3G5ab\"> <span class=\"fYyStc\">900+ Lord shiva the eternal...</span> </span> <span class=\"qXLe6d F9iS2e\"> <span class=\"fYyStc\">in.pinterest.com</span> </span> </div></a></td></tr></table></div></div> </div> </div></td><td align=\"center\" class=\"e3goi\"><div class=\"mnTahd\"> <div> <div class=\"lIMUZd\"><div><table class=\"IkMU6e\"><tr><td><a href=\"/url?q=http://www.walkthroughindia.com/divinity/great-god-lord-shiva-symbolized-attributes-ornaments/&amp;sa=U&amp;ved=2ahUKEwiewNCCpcKAAxUCfnAKHVuRDoIQqoUBegQIERAB&amp;usg=AOvVaw03QDuNzhoiRZ7iIs8Dd4il\"><div class=\"NZWO1b\"><img alt=\"\" class=\"yWs4tf\" src=\"https://encrypted-tbn0.gstatic.com/images?q=tbn:ANd9GcSxKqaGigLu1QQ-V8ek5ubPrlDV2Azk6JKxGAAE1_OeZdfYzviB5IL8zDXNGA&amp;s\"/></div></a></td></tr><tr><td><a href=\"/url?q=http://www.walkthroughindia.com/divinity/great-god-lord-shiva-symbolized-attributes-ornaments/&amp;sa=U&amp;ved=2ahUKEwiewNCCpcKAAxUCfnAKHVuRDoIQr4kDegQIERAC&amp;usg=AOvVaw03jHjObWBJs_lUfytSi0xu\"><div class=\"jB2rPd\"> <span class=\"qXLe6d x3G5ab\"> <span class=\"fYyStc\">Great God Lord Shiva With...</span> </span> <span class=\"qXLe6d F9iS2e\"> <span class=\"fYyStc\">www.walkthroughindia.com</span> </span> </div></a></td></tr></table></div></div> </div> </div></td><td align=\"center\" class=\"e3goi\"><div class=\"mnTahd\"> <div> <div class=\"lIMUZd\"><div><table class=\"IkMU6e\"><tr><td><a href=\"/url?q=https://flairglass.in/products/wall-painting-of-lord-shiva-family&amp;sa=U&amp;ved=2ahUKEwiewNCCpcKAAxUCfnAKHVuRDoIQqoUBegQIDxAB&amp;usg=AOvVaw0VvXCo6tFfBCS9jO197Mu_\"><div class=\"NZWO1b\"><img alt=\"\" class=\"yWs4tf\" src=\"https://encrypted-tbn0.gstatic.com/images?q=tbn:ANd9GcTo6Sj_PYJ45sx3muMVs_DkzyOVm3Vei0j6ITIkRcayl84NjuLGpi7Tdk_1obo&amp;s\"/></div></a></td></tr><tr><td><a href=\"/url?q=https://flairglass.in/products/wall-painting-of-lord-shiva-family&amp;sa=U&amp;ved=2ahUKEwiewNCCpcKAAxUCfnAKHVuRDoIQr4kDegQIDxAC&amp;usg=AOvVaw1AjtMLPCGPXlqLeCVfvoTr\"><div class=\"jB2rPd\"> <span class=\"qXLe6d x3G5ab\"> <span class=\"fYyStc\">Abstract Frameless Wall...</span> </span> <span class=\"qXLe6d F9iS2e\"> <span class=\"fYyStc\">flairglass.in</span> </span> </div></a></td></tr></table></div></div> </div> </div></td></tr><tr><td align=\"center\" class=\"e3goi\"><div class=\"mnTahd\"> <div> <div class=\"lIMUZd\"><div><table class=\"IkMU6e\"><tr><td><a href=\"/url?q=https://play.google.com/store/apps/details%3Fid%3Dcom.wallpapers_4k_hd_lord_shiva_Wallpapers%26hl%3Den_US&amp;sa=U&amp;ved=2ahUKEwiewNCCpcKAAxUCfnAKHVuRDoIQqoUBegQICBAB&amp;usg=AOvVaw2g9zwThPeLBn7EpOVPOcl2\"><div class=\"NZWO1b\"><img alt=\"\" class=\"yWs4tf\" src=\"https://encrypted-tbn0.gstatic.com/images?q=tbn:ANd9GcSkAkaK0laHEqfhX16k1Qspg43PcAFKXpRT_Erfy5FiAg94zNAurJfizm8qFOk&amp;s\"/></div></a></td></tr><tr><td><a href=\"/url?q=https://play.google.com/store/apps/details%3Fid%3Dcom.wallpapers_4k_hd_lord_shiva_Wallpapers%26hl%3Den_US&amp;sa=U&amp;ved=2ahUKEwiewNCCpcKAAxUCfnAKHVuRDoIQr4kDegQICBAC&amp;usg=AOvVaw239PYJypzHWamDvgfmG-5Y\"><div class=\"jB2rPd\"> <span class=\"qXLe6d x3G5ab\"> <span class=\"fYyStc\">http://...</span> </span> <span class=\"qXLe6d F9iS2e\"> <span class=\"fYyStc\">play.google.com</span> </span> </div></a></td></tr></table></div></div> </div> </div></td><td align=\"center\" class=\"e3goi\"><div class=\"mnTahd\"> <div> <div class=\"lIMUZd\"><div><table class=\"IkMU6e\"><tr><td><a href=\"/url?q=https://mythus.fandom.com/wiki/Shiva&amp;sa=U&amp;ved=2ahUKEwiewNCCpcKAAxUCfnAKHVuRDoIQqoUBegQIBBAB&amp;usg=AOvVaw0XuVlvEeyHvBmtVFO25Oav\"><div class=\"NZWO1b\"><img alt=\"\" class=\"yWs4tf\" src=\"https://encrypted-tbn0.gstatic.com/images?q=tbn:ANd9GcTPzXNLRuwa50G9G9_kKyUEn6YqBJ0PwhAcWzVn3_p-pGcNyfmSoiSvw7uIoWU&amp;s\"/></div></a></td></tr><tr><td><a href=\"/url?q=https://mythus.fandom.com/wiki/Shiva&amp;sa=U&amp;ved=2ahUKEwiewNCCpcKAAxUCfnAKHVuRDoIQr4kDegQIBBAC&amp;usg=AOvVaw2PsikC9ZXNYUYtOo_-PGTP\"><div class=\"jB2rPd\"> <span class=\"qXLe6d x3G5ab\"> <span class=\"fYyStc\">Śivá | Myth and Folklore...</span> </span> <span class=\"qXLe6d F9iS2e\"> <span class=\"fYyStc\">mythus.fandom.com</span> </span> </div></a></td></tr></table></div></div> </div> </div></td><td align=\"center\" class=\"e3goi\"><div class=\"mnTahd\"> <div> <div class=\"lIMUZd\"><div><table class=\"IkMU6e\"><tr><td><a href=\"/url?q=https://wordzz.com/lord-shiva-images/&amp;sa=U&amp;ved=2ahUKEwiewNCCpcKAAxUCfnAKHVuRDoIQqoUBegQIAxAB&amp;usg=AOvVaw19akJ2dgEBjDVFbLvojUak\"><div class=\"NZWO1b\"><img alt=\"\" class=\"yWs4tf\" src=\"https://encrypted-tbn0.gstatic.com/images?q=tbn:ANd9GcQCmo66TdM1wXa8LGChRGd9feCzAsauTJqOJvvIy3fTU9dfQoXqDWjzJZ8LKg&amp;s\"/></div></a></td></tr><tr><td><a href=\"/url?q=https://wordzz.com/lord-shiva-images/&amp;sa=U&amp;ved=2ahUKEwiewNCCpcKAAxUCfnAKHVuRDoIQr4kDegQIAxAC&amp;usg=AOvVaw3PfIFojHOEwJoqzxY8yJHT\"><div class=\"jB2rPd\"> <span class=\"qXLe6d x3G5ab\"> <span class=\"fYyStc\">Lord Shiva Images - Wordzz</span> </span> <span class=\"qXLe6d F9iS2e\"> <span class=\"fYyStc\">wordzz.com</span> </span> </div></a></td></tr></table></div></div> </div> </div></td><td align=\"center\" class=\"e3goi\"><div class=\"mnTahd\"> <div> <div class=\"lIMUZd\"><div><table class=\"IkMU6e\"><tr><td><a href=\"/url?q=https://www.pxfuel.com/en/query%3Fq%3Dlord%2Bshiva&amp;sa=U&amp;ved=2ahUKEwiewNCCpcKAAxUCfnAKHVuRDoIQqoUBegQIBhAB&amp;usg=AOvVaw1roDQod7LLYcEJoa2_4b3e\"><div class=\"NZWO1b\"><img alt=\"\" class=\"yWs4tf\" src=\"https://encrypted-tbn0.gstatic.com/images?q=tbn:ANd9GcTf3xt9KCyh1w9HyfaI1i63wHIq7ScFgsIWPw9kn68AlCYm02uOtLPv2KI-xg&amp;s\"/></div></a></td></tr><tr><td><a href=\"/url?q=https://www.pxfuel.com/en/query%3Fq%3Dlord%2Bshiva&amp;sa=U&amp;ved=2ahUKEwiewNCCpcKAAxUCfnAKHVuRDoIQr4kDegQIBhAC&amp;usg=AOvVaw3BNqQvK_d7a9uweg8dAo3k\"><div class=\"jB2rPd\"> <span class=\"qXLe6d x3G5ab\"> <span class=\"fYyStc\">Lord shiva HD wallpapers |...</span> </span> <span class=\"qXLe6d F9iS2e\"> <span class=\"fYyStc\">www.pxfuel.com</span> </span> </div></a></td></tr></table></div></div> </div> </div></td></tr><tr><td align=\"center\" class=\"e3goi\"><div class=\"mnTahd\"> <div> <div class=\"lIMUZd\"><div><table class=\"IkMU6e\"><tr><td><a href=\"/url?q=https://www.peakpx.com/en/hd-wallpaper-desktop-wxtpt&amp;sa=U&amp;ved=2ahUKEwiewNCCpcKAAxUCfnAKHVuRDoIQqoUBegQIBRAB&amp;usg=AOvVaw0N84to8xLAa0g4gryLkxpE\"><div class=\"NZWO1b\"><img alt=\"\" class=\"yWs4tf\" src=\"https://encrypted-tbn0.gstatic.com/images?q=tbn:ANd9GcRLPy3QwS0jCMjVBnQKVxT2ZcreouWx8ucI2qgB6aIZZp5b2OOwvg1werG46Q&amp;s\"/></div></a></td></tr><tr><td><a href=\"/url?q=https://www.peakpx.com/en/hd-wallpaper-desktop-wxtpt&amp;sa=U&amp;ved=2ahUKEwiewNCCpcKAAxUCfnAKHVuRDoIQr4kDegQIBRAC&amp;usg=AOvVaw1PWMjbygZyeecfFJWmi5gf\"><div class=\"jB2rPd\"> <span class=\"qXLe6d x3G5ab\"> <span class=\"fYyStc\">Lord Shiva...</span> </span> <span class=\"qXLe6d F9iS2e\"> <span class=\"fYyStc\">www.peakpx.com</span> </span> </div></a></td></tr></table></div></div> </div> </div></td><td align=\"center\" class=\"e3goi\"><div class=\"mnTahd\"> <div> <div class=\"lIMUZd\"><div><table class=\"IkMU6e\"><tr><td><a href=\"/url?q=https://wallpapers.com/lord-shiva&amp;sa=U&amp;ved=2ahUKEwiewNCCpcKAAxUCfnAKHVuRDoIQqoUBegQIBxAB&amp;usg=AOvVaw0NUJKq-K9_nkmxqvAW8ET2\"><div class=\"NZWO1b\"><img alt=\"\" class=\"yWs4tf\" src=\"https://encrypted-tbn0.gstatic.com/images?q=tbn:ANd9GcRYaIC9mewj-25PH9akYjG-i-GwDfG1Mta7y2DO6evHiTr0ss-HRgWUJjjUIX0&amp;s\"/></div></a></td></tr><tr><td><a href=\"/url?q=https://wallpapers.com/lord-shiva&amp;sa=U&amp;ved=2ahUKEwiewNCCpcKAAxUCfnAKHVuRDoIQr4kDegQIBxAC&amp;usg=AOvVaw2vDXnR5Gpets8zW18dHhrr\"><div class=\"jB2rPd\"> <span class=\"qXLe6d x3G5ab\"> <span class=\"fYyStc\">300+] Lord Shiva Wallpapers...</span> </span> <span class=\"qXLe6d F9iS2e\"> <span class=\"fYyStc\">wallpapers.com</span> </span> </div></a></td></tr></table></div></div> </div> </div></td><td align=\"center\" class=\"e3goi\"><div class=\"mnTahd\"> <div> <div class=\"lIMUZd\"><div><table class=\"IkMU6e\"><tr><td><a href=\"/url?q=https://www.pexels.com/search/lord%2520shiva/&amp;sa=U&amp;ved=2ahUKEwiewNCCpcKAAxUCfnAKHVuRDoIQqoUBegQIABAB&amp;usg=AOvVaw2tRuf73qjdpXA5c_koZGAj\"><div class=\"NZWO1b\"><img alt=\"\" class=\"yWs4tf\" src=\"https://encrypted-tbn0.gstatic.com/images?q=tbn:ANd9GcTPFy7H7szVGCpqs7x3RWw9MfLYrYAhYttz8J8_up-w6jn4cxLvF7lMQymp2A&amp;s\"/></div></a></td></tr><tr><td><a href=\"/url?q=https://www.pexels.com/search/lord%2520shiva/&amp;sa=U&amp;ved=2ahUKEwiewNCCpcKAAxUCfnAKHVuRDoIQr4kDegQIABAC&amp;usg=AOvVaw19Lzo4DtLX8xWXwwl_BUQS\"><div class=\"jB2rPd\"> <span class=\"qXLe6d x3G5ab\"> <span class=\"fYyStc\">Lord Shiva Photos, Download...</span> </span> <span class=\"qXLe6d F9iS2e\"> <span class=\"fYyStc\">www.pexels.com</span> </span> </div></a></td></tr></table></div></div> </div> </div></td><td align=\"center\" class=\"e3goi\"><div class=\"mnTahd\"> <div> <div class=\"lIMUZd\"><div><table class=\"IkMU6e\"><tr><td><a href=\"/url?q=https://www.bhaktiphotos.com/shiv-parivar-images/&amp;sa=U&amp;ved=2ahUKEwiewNCCpcKAAxUCfnAKHVuRDoIQqoUBegQIARAB&amp;usg=AOvVaw3vbLZdmj2y7AlnqkCNi-mr\"><div class=\"NZWO1b\"><img alt=\"\" class=\"yWs4tf\" src=\"https://encrypted-tbn0.gstatic.com/images?q=tbn:ANd9GcS_nFvBVh2HsOVc9JFkUkpm62PDgOmDVuMenbk4mz-jjaBFWwVx32_ty1WTapg&amp;s\"/></div></a></td></tr><tr><td><a href=\"/url?q=https://www.bhaktiphotos.com/shiv-parivar-images/&amp;sa=U&amp;ved=2ahUKEwiewNCCpcKAAxUCfnAKHVuRDoIQr4kDegQIARAC&amp;usg=AOvVaw2xgt2905_ggbvT18kds2_l\"><div class=\"jB2rPd\"> <span class=\"qXLe6d x3G5ab\"> <span class=\"fYyStc\">148+ God Shiv Parivar...</span> </span> <span class=\"qXLe6d F9iS2e\"> <span class=\"fYyStc\">www.bhaktiphotos.com</span> </span> </div></a></td></tr></table></div></div> </div> </div></td></tr></table></div><table class=\"uZgmoc\"><tbody><td><a class=\"frGj1b\" href=\"/search?q=lord+shiva&amp;sca_esv=553677874&amp;rlz=1C1CHBF_enIN996IN996&amp;biw=1280&amp;bih=563&amp;ie=UTF-8&amp;tbm=isch&amp;ei=9I7MZJ72JYL8wQPborqQCA&amp;start=20&amp;sa=N\">Next &gt;</a></td></tbody></table><br/><div class=\"TuS8Ad\" data-ved=\"0ahUKEwiewNCCpcKAAxUCfnAKHVuRDoIQpyoIUg\"><style>.VYM29{font-weight:bold}</style><div align=\"center\" class=\"HddGcc\"><span class=\"VYM29\">Balagere, Bengaluru, Karnataka</span><span> - </span><span>From your IP address</span><span> - </span><a href=\"/url?q=https://support.google.com/websearch%3Fp%3Dws_settings_location%26hl%3Den-IN&amp;sa=U&amp;ved=0ahUKEwiewNCCpcKAAxUCfnAKHVuRDoIQty4IUw&amp;usg=AOvVaw0F7PLqs2OZXbQDe4xJvEdb\">Learn more</a></div><div align=\"center\"><a class=\"rEM8G\" href=\"/url?q=https://accounts.google.com/ServiceLogin%3Fcontinue%3Dhttps://www.google.com/search%253Fsca_esv%253D553677874%2526rlz%253D1C1CHBF_enIN996IN996%2526sxsrf%253DAB5stBhzQFultxIQNREcYa1vjmYIwo3G3Q:1691127207443%2526q%253Dlord%252Bshiva%2526tbm%253Disch%2526source%253Duniv%2526fir%253DRWgVdwN1UvoAkM%2525252CdOqoG2SZsd8ItM%2525252C_%2525253BFMyn2WBaFnrENM%2525252CS2h1U6V0K5ax2M%2525252C_%2525253Btw55T9IzylnXKM%2525252CYM-A8t2nVwlrkM%2525252C_%2525253BGdEXFdMZOcTlGM%2525252CLXtj5LcFTfe1bM%2525252C_%2525253B-0abKL0mJUX5DM%2525252C3EsRCOGyRsprOM%2525252C_%2525253BIarZYcYpsxSM9M%2525252Cqmh8SPl6AHguIM%2525252C_%2525253BuHgInOI8H3pMoM%2525252CIiHhgw3UaEmnPM%2525252C_%2525253BScUj0was8z-ehM%2525252Cb6HNyCJT7zVuDM%2525252C_%2525253BylwyzP7iFDITQM%2525252CktICD1845SgrzM%2525252C_%2525253BTG4523dH1RvW6M%2525252C2gILM59-QIEPzM%2525252C_%2525253BG9LZNPPYMWEBXM%2525252Ci3nsmEHNSiNtDM%2525252C_%2525253BPZDZtpXYXaEtXM%2525252C_jqWytiRZi7XTM%2525252C_%2525253BDuNDDe7xKsCI3M%2525252C0pkp0U3J7qNZIM%2525252C_%2525253BDjSiKo3eMKEQYM%2525252C-2cvEoq2nxrA2M%2525252C_%2525253BzV1Vy4WL80vvVM%2525252CGONdxhq_1Q-LlM%2525252C_%2525253Bp2My29wJ_Wm12M%2525252CkIaMrjbBntC1OM%2525252C_%2525253BRZ6AbWysK4KD3M%2525252CdxYWpsoGJr2MCM%2525252C_%2525253BDxZIj8mKN1a4RM%2525252CcLAiqma4Sst_aM%2525252C_%2526usg%253DAI4_-kQmiZh5sJL-nUolxOPJ94n8dLjKDQ%2526sa%253DX%2526ved%253D2ahUKEwjvtODjo8KAAxXFT2wGHb1vBtwQjJkEegQIahAC%2526biw%253D1280%2526bih%253D563%2526dpr%253D1.5%26hl%3Den&amp;sa=U&amp;ved=0ahUKEwiewNCCpcKAAxUCfnAKHVuRDoIQxs8CCFQ&amp;usg=AOvVaw1X9DU3s1cEUKPa5udBPiS1\">Sign in</a></div><div><table class=\"bookcf\"><tbody class=\"InWNIe\"><tr><td><a class=\"rEM8G\" href=\"https://www.google.com/preferences?hl=en&amp;sa=X&amp;ved=0ahUKEwiewNCCpcKAAxUCfnAKHVuRDoIQv5YECFU\">Settings</a></td><td><a class=\"rEM8G\" href=\"https://www.google.com/intl/en_in/policies/privacy/\">Privacy</a></td><td><a class=\"rEM8G\" href=\"https://www.google.com/intl/en_in/policies/terms/\">Terms</a></td></tr></tbody></table></div></div><div> </div></body></html>"
      ]
     },
     "execution_count": 30,
     "metadata": {},
     "output_type": "execute_result"
    }
   ],
   "source": [
    "soup"
   ]
  },
  {
   "cell_type": "code",
   "execution_count": 31,
   "id": "594a5d08-f581-4509-b9ee-6e7a7698b9b6",
   "metadata": {},
   "outputs": [],
   "source": [
    "image_tags = soup.find_all(\"img\")    #fetching images inside my system"
   ]
  },
  {
   "cell_type": "code",
   "execution_count": 32,
   "id": "20a8f1e0-e747-4b52-ab8a-a350366c5754",
   "metadata": {},
   "outputs": [],
   "source": [
    "del image_tags[0]  #deleting first line or images which is downloaded"
   ]
  },
  {
   "cell_type": "code",
   "execution_count": 33,
   "id": "f61cb5a7-95b3-4b8d-9614-fdeaeb388cec",
   "metadata": {},
   "outputs": [
    {
     "data": {
      "text/plain": [
       "[<img alt=\"\" class=\"yWs4tf\" src=\"https://encrypted-tbn0.gstatic.com/images?q=tbn:ANd9GcTLNdfjEQVCuRW9p7XOh3STeNoHneCuZHGWDt-bovDbXp2xsqkdioMe4amOEa4&amp;s\"/>,\n",
       " <img alt=\"\" class=\"yWs4tf\" src=\"https://encrypted-tbn0.gstatic.com/images?q=tbn:ANd9GcQ267AtJL5NMdpduBTUNLdmBnBuupTaQQA3YBQsK39283kAODiKQgl0qMSvWYE&amp;s\"/>,\n",
       " <img alt=\"\" class=\"yWs4tf\" src=\"https://encrypted-tbn0.gstatic.com/images?q=tbn:ANd9GcRyOZcatmHTvZH47YyUnUj9KtcSMyzPDr40YgBt3qmYFaIO5hhwrJtEkPcbEQ&amp;s\"/>,\n",
       " <img alt=\"\" class=\"yWs4tf\" src=\"https://encrypted-tbn0.gstatic.com/images?q=tbn:ANd9GcThR7JAtYomFgw9Id1ielIIzvqct2kA5m37yRLi0BjUPsP_ChnbjvSdwhZn2w&amp;s\"/>,\n",
       " <img alt=\"\" class=\"yWs4tf\" src=\"https://encrypted-tbn0.gstatic.com/images?q=tbn:ANd9GcTzrcZm0wCFwyLYiBakY2eAJ4ashhCbecC4EMqdaRmcAIpGu9TQSMTsQYEtmHQ&amp;s\"/>,\n",
       " <img alt=\"\" class=\"yWs4tf\" src=\"https://encrypted-tbn0.gstatic.com/images?q=tbn:ANd9GcQYQ_4UnGesc115y-kWxKL5y0P1CLP9cUDcVqK4cTmY-lz4YGVCuyRePN74dw&amp;s\"/>,\n",
       " <img alt=\"\" class=\"yWs4tf\" src=\"https://encrypted-tbn0.gstatic.com/images?q=tbn:ANd9GcQJDmryqwDLx6aRKmi_ebDXT5nLtkD3ISQMYE4QO8LCfVEcYETRSBNj0v-MPg&amp;s\"/>,\n",
       " <img alt=\"\" class=\"yWs4tf\" src=\"https://encrypted-tbn0.gstatic.com/images?q=tbn:ANd9GcRoboWEsu45sGAHT6k24Y9GyJsoIHG6SY7Wo5AXeMEitzodgHlCqI-_MzTjmw&amp;s\"/>,\n",
       " <img alt=\"\" class=\"yWs4tf\" src=\"https://encrypted-tbn0.gstatic.com/images?q=tbn:ANd9GcQfpcH2IsFP1gCZvcve9ys82qEdiNALDFvb_AL_QeJckYM8mjURbvbmuvbikg&amp;s\"/>,\n",
       " <img alt=\"\" class=\"yWs4tf\" src=\"https://encrypted-tbn0.gstatic.com/images?q=tbn:ANd9GcS2-LiHKRc9CaRUCPUfXf5-fK5WzulgK9HohwIHI1xPJ90KkHO3TpKL-hUjEg&amp;s\"/>,\n",
       " <img alt=\"\" class=\"yWs4tf\" src=\"https://encrypted-tbn0.gstatic.com/images?q=tbn:ANd9GcSxKqaGigLu1QQ-V8ek5ubPrlDV2Azk6JKxGAAE1_OeZdfYzviB5IL8zDXNGA&amp;s\"/>,\n",
       " <img alt=\"\" class=\"yWs4tf\" src=\"https://encrypted-tbn0.gstatic.com/images?q=tbn:ANd9GcTo6Sj_PYJ45sx3muMVs_DkzyOVm3Vei0j6ITIkRcayl84NjuLGpi7Tdk_1obo&amp;s\"/>,\n",
       " <img alt=\"\" class=\"yWs4tf\" src=\"https://encrypted-tbn0.gstatic.com/images?q=tbn:ANd9GcSkAkaK0laHEqfhX16k1Qspg43PcAFKXpRT_Erfy5FiAg94zNAurJfizm8qFOk&amp;s\"/>,\n",
       " <img alt=\"\" class=\"yWs4tf\" src=\"https://encrypted-tbn0.gstatic.com/images?q=tbn:ANd9GcTPzXNLRuwa50G9G9_kKyUEn6YqBJ0PwhAcWzVn3_p-pGcNyfmSoiSvw7uIoWU&amp;s\"/>,\n",
       " <img alt=\"\" class=\"yWs4tf\" src=\"https://encrypted-tbn0.gstatic.com/images?q=tbn:ANd9GcQCmo66TdM1wXa8LGChRGd9feCzAsauTJqOJvvIy3fTU9dfQoXqDWjzJZ8LKg&amp;s\"/>,\n",
       " <img alt=\"\" class=\"yWs4tf\" src=\"https://encrypted-tbn0.gstatic.com/images?q=tbn:ANd9GcTf3xt9KCyh1w9HyfaI1i63wHIq7ScFgsIWPw9kn68AlCYm02uOtLPv2KI-xg&amp;s\"/>,\n",
       " <img alt=\"\" class=\"yWs4tf\" src=\"https://encrypted-tbn0.gstatic.com/images?q=tbn:ANd9GcRLPy3QwS0jCMjVBnQKVxT2ZcreouWx8ucI2qgB6aIZZp5b2OOwvg1werG46Q&amp;s\"/>,\n",
       " <img alt=\"\" class=\"yWs4tf\" src=\"https://encrypted-tbn0.gstatic.com/images?q=tbn:ANd9GcRYaIC9mewj-25PH9akYjG-i-GwDfG1Mta7y2DO6evHiTr0ss-HRgWUJjjUIX0&amp;s\"/>,\n",
       " <img alt=\"\" class=\"yWs4tf\" src=\"https://encrypted-tbn0.gstatic.com/images?q=tbn:ANd9GcTPFy7H7szVGCpqs7x3RWw9MfLYrYAhYttz8J8_up-w6jn4cxLvF7lMQymp2A&amp;s\"/>,\n",
       " <img alt=\"\" class=\"yWs4tf\" src=\"https://encrypted-tbn0.gstatic.com/images?q=tbn:ANd9GcS_nFvBVh2HsOVc9JFkUkpm62PDgOmDVuMenbk4mz-jjaBFWwVx32_ty1WTapg&amp;s\"/>]"
      ]
     },
     "execution_count": 33,
     "metadata": {},
     "output_type": "execute_result"
    }
   ],
   "source": [
    "image_tags"
   ]
  },
  {
   "cell_type": "code",
   "execution_count": null,
   "id": "eead2b4e-861b-4be2-a44d-a321ba365bcc",
   "metadata": {},
   "outputs": [],
   "source": []
  },
  {
   "cell_type": "code",
   "execution_count": 34,
   "id": "18a76064-81c5-4a4f-81a0-24d98280b1b7",
   "metadata": {},
   "outputs": [
    {
     "data": {
      "text/plain": [
       "20"
      ]
     },
     "execution_count": 34,
     "metadata": {},
     "output_type": "execute_result"
    }
   ],
   "source": [
    "len(image_tags)   # no. of images available in that page"
   ]
  },
  {
   "cell_type": "code",
   "execution_count": 46,
   "id": "f3e008b4-e1c5-4dac-b5eb-9e9af196c400",
   "metadata": {},
   "outputs": [],
   "source": [
    "#requests.get(https://www.google.com/search?q=lord+shiva&rlz=1C1CHBF_enIN996IN996&oq=&aqs=chrome..69i57j0i131i433i512l2j0i512l2j0i131i433i512l4j0i433i512.88182066j0j15&sourceid=chrome&ie=UTF-8)"
   ]
  },
  {
   "cell_type": "code",
   "execution_count": 64,
   "id": "ba7d2af6-dbd6-4327-9012-b583ddf0a9f1",
   "metadata": {},
   "outputs": [],
   "source": [
    "#save_dir=\"images/\"\n",
    "#if not os.path.exists(save_dir):\n",
    "    #os.makedirs(save_dir)"
   ]
  },
  {
   "cell_type": "code",
   "execution_count": 35,
   "id": "ac7b3bc3-bc62-400f-9bde-426642bfafb2",
   "metadata": {},
   "outputs": [
    {
     "name": "stdout",
     "output_type": "stream",
     "text": [
      "<img alt=\"\" class=\"yWs4tf\" src=\"https://encrypted-tbn0.gstatic.com/images?q=tbn:ANd9GcTLNdfjEQVCuRW9p7XOh3STeNoHneCuZHGWDt-bovDbXp2xsqkdioMe4amOEa4&amp;s\"/>\n",
      "<img alt=\"\" class=\"yWs4tf\" src=\"https://encrypted-tbn0.gstatic.com/images?q=tbn:ANd9GcQ267AtJL5NMdpduBTUNLdmBnBuupTaQQA3YBQsK39283kAODiKQgl0qMSvWYE&amp;s\"/>\n",
      "<img alt=\"\" class=\"yWs4tf\" src=\"https://encrypted-tbn0.gstatic.com/images?q=tbn:ANd9GcRyOZcatmHTvZH47YyUnUj9KtcSMyzPDr40YgBt3qmYFaIO5hhwrJtEkPcbEQ&amp;s\"/>\n",
      "<img alt=\"\" class=\"yWs4tf\" src=\"https://encrypted-tbn0.gstatic.com/images?q=tbn:ANd9GcThR7JAtYomFgw9Id1ielIIzvqct2kA5m37yRLi0BjUPsP_ChnbjvSdwhZn2w&amp;s\"/>\n",
      "<img alt=\"\" class=\"yWs4tf\" src=\"https://encrypted-tbn0.gstatic.com/images?q=tbn:ANd9GcTzrcZm0wCFwyLYiBakY2eAJ4ashhCbecC4EMqdaRmcAIpGu9TQSMTsQYEtmHQ&amp;s\"/>\n",
      "<img alt=\"\" class=\"yWs4tf\" src=\"https://encrypted-tbn0.gstatic.com/images?q=tbn:ANd9GcQYQ_4UnGesc115y-kWxKL5y0P1CLP9cUDcVqK4cTmY-lz4YGVCuyRePN74dw&amp;s\"/>\n",
      "<img alt=\"\" class=\"yWs4tf\" src=\"https://encrypted-tbn0.gstatic.com/images?q=tbn:ANd9GcQJDmryqwDLx6aRKmi_ebDXT5nLtkD3ISQMYE4QO8LCfVEcYETRSBNj0v-MPg&amp;s\"/>\n",
      "<img alt=\"\" class=\"yWs4tf\" src=\"https://encrypted-tbn0.gstatic.com/images?q=tbn:ANd9GcRoboWEsu45sGAHT6k24Y9GyJsoIHG6SY7Wo5AXeMEitzodgHlCqI-_MzTjmw&amp;s\"/>\n",
      "<img alt=\"\" class=\"yWs4tf\" src=\"https://encrypted-tbn0.gstatic.com/images?q=tbn:ANd9GcQfpcH2IsFP1gCZvcve9ys82qEdiNALDFvb_AL_QeJckYM8mjURbvbmuvbikg&amp;s\"/>\n",
      "<img alt=\"\" class=\"yWs4tf\" src=\"https://encrypted-tbn0.gstatic.com/images?q=tbn:ANd9GcS2-LiHKRc9CaRUCPUfXf5-fK5WzulgK9HohwIHI1xPJ90KkHO3TpKL-hUjEg&amp;s\"/>\n",
      "<img alt=\"\" class=\"yWs4tf\" src=\"https://encrypted-tbn0.gstatic.com/images?q=tbn:ANd9GcSxKqaGigLu1QQ-V8ek5ubPrlDV2Azk6JKxGAAE1_OeZdfYzviB5IL8zDXNGA&amp;s\"/>\n",
      "<img alt=\"\" class=\"yWs4tf\" src=\"https://encrypted-tbn0.gstatic.com/images?q=tbn:ANd9GcTo6Sj_PYJ45sx3muMVs_DkzyOVm3Vei0j6ITIkRcayl84NjuLGpi7Tdk_1obo&amp;s\"/>\n",
      "<img alt=\"\" class=\"yWs4tf\" src=\"https://encrypted-tbn0.gstatic.com/images?q=tbn:ANd9GcSkAkaK0laHEqfhX16k1Qspg43PcAFKXpRT_Erfy5FiAg94zNAurJfizm8qFOk&amp;s\"/>\n",
      "<img alt=\"\" class=\"yWs4tf\" src=\"https://encrypted-tbn0.gstatic.com/images?q=tbn:ANd9GcTPzXNLRuwa50G9G9_kKyUEn6YqBJ0PwhAcWzVn3_p-pGcNyfmSoiSvw7uIoWU&amp;s\"/>\n",
      "<img alt=\"\" class=\"yWs4tf\" src=\"https://encrypted-tbn0.gstatic.com/images?q=tbn:ANd9GcQCmo66TdM1wXa8LGChRGd9feCzAsauTJqOJvvIy3fTU9dfQoXqDWjzJZ8LKg&amp;s\"/>\n",
      "<img alt=\"\" class=\"yWs4tf\" src=\"https://encrypted-tbn0.gstatic.com/images?q=tbn:ANd9GcTf3xt9KCyh1w9HyfaI1i63wHIq7ScFgsIWPw9kn68AlCYm02uOtLPv2KI-xg&amp;s\"/>\n",
      "<img alt=\"\" class=\"yWs4tf\" src=\"https://encrypted-tbn0.gstatic.com/images?q=tbn:ANd9GcRLPy3QwS0jCMjVBnQKVxT2ZcreouWx8ucI2qgB6aIZZp5b2OOwvg1werG46Q&amp;s\"/>\n",
      "<img alt=\"\" class=\"yWs4tf\" src=\"https://encrypted-tbn0.gstatic.com/images?q=tbn:ANd9GcRYaIC9mewj-25PH9akYjG-i-GwDfG1Mta7y2DO6evHiTr0ss-HRgWUJjjUIX0&amp;s\"/>\n",
      "<img alt=\"\" class=\"yWs4tf\" src=\"https://encrypted-tbn0.gstatic.com/images?q=tbn:ANd9GcTPFy7H7szVGCpqs7x3RWw9MfLYrYAhYttz8J8_up-w6jn4cxLvF7lMQymp2A&amp;s\"/>\n",
      "<img alt=\"\" class=\"yWs4tf\" src=\"https://encrypted-tbn0.gstatic.com/images?q=tbn:ANd9GcS_nFvBVh2HsOVc9JFkUkpm62PDgOmDVuMenbk4mz-jjaBFWwVx32_ty1WTapg&amp;s\"/>\n"
     ]
    }
   ],
   "source": [
    "for i in image_tags:\n",
    "    print(i)"
   ]
  },
  {
   "cell_type": "code",
   "execution_count": 36,
   "id": "689cecdc-7ad1-48f3-8091-5f052e50b256",
   "metadata": {},
   "outputs": [
    {
     "name": "stdout",
     "output_type": "stream",
     "text": [
      "https://encrypted-tbn0.gstatic.com/images?q=tbn:ANd9GcTLNdfjEQVCuRW9p7XOh3STeNoHneCuZHGWDt-bovDbXp2xsqkdioMe4amOEa4&s\n",
      "https://encrypted-tbn0.gstatic.com/images?q=tbn:ANd9GcQ267AtJL5NMdpduBTUNLdmBnBuupTaQQA3YBQsK39283kAODiKQgl0qMSvWYE&s\n",
      "https://encrypted-tbn0.gstatic.com/images?q=tbn:ANd9GcRyOZcatmHTvZH47YyUnUj9KtcSMyzPDr40YgBt3qmYFaIO5hhwrJtEkPcbEQ&s\n",
      "https://encrypted-tbn0.gstatic.com/images?q=tbn:ANd9GcThR7JAtYomFgw9Id1ielIIzvqct2kA5m37yRLi0BjUPsP_ChnbjvSdwhZn2w&s\n",
      "https://encrypted-tbn0.gstatic.com/images?q=tbn:ANd9GcTzrcZm0wCFwyLYiBakY2eAJ4ashhCbecC4EMqdaRmcAIpGu9TQSMTsQYEtmHQ&s\n",
      "https://encrypted-tbn0.gstatic.com/images?q=tbn:ANd9GcQYQ_4UnGesc115y-kWxKL5y0P1CLP9cUDcVqK4cTmY-lz4YGVCuyRePN74dw&s\n",
      "https://encrypted-tbn0.gstatic.com/images?q=tbn:ANd9GcQJDmryqwDLx6aRKmi_ebDXT5nLtkD3ISQMYE4QO8LCfVEcYETRSBNj0v-MPg&s\n",
      "https://encrypted-tbn0.gstatic.com/images?q=tbn:ANd9GcRoboWEsu45sGAHT6k24Y9GyJsoIHG6SY7Wo5AXeMEitzodgHlCqI-_MzTjmw&s\n",
      "https://encrypted-tbn0.gstatic.com/images?q=tbn:ANd9GcQfpcH2IsFP1gCZvcve9ys82qEdiNALDFvb_AL_QeJckYM8mjURbvbmuvbikg&s\n",
      "https://encrypted-tbn0.gstatic.com/images?q=tbn:ANd9GcS2-LiHKRc9CaRUCPUfXf5-fK5WzulgK9HohwIHI1xPJ90KkHO3TpKL-hUjEg&s\n",
      "https://encrypted-tbn0.gstatic.com/images?q=tbn:ANd9GcSxKqaGigLu1QQ-V8ek5ubPrlDV2Azk6JKxGAAE1_OeZdfYzviB5IL8zDXNGA&s\n",
      "https://encrypted-tbn0.gstatic.com/images?q=tbn:ANd9GcTo6Sj_PYJ45sx3muMVs_DkzyOVm3Vei0j6ITIkRcayl84NjuLGpi7Tdk_1obo&s\n",
      "https://encrypted-tbn0.gstatic.com/images?q=tbn:ANd9GcSkAkaK0laHEqfhX16k1Qspg43PcAFKXpRT_Erfy5FiAg94zNAurJfizm8qFOk&s\n",
      "https://encrypted-tbn0.gstatic.com/images?q=tbn:ANd9GcTPzXNLRuwa50G9G9_kKyUEn6YqBJ0PwhAcWzVn3_p-pGcNyfmSoiSvw7uIoWU&s\n",
      "https://encrypted-tbn0.gstatic.com/images?q=tbn:ANd9GcQCmo66TdM1wXa8LGChRGd9feCzAsauTJqOJvvIy3fTU9dfQoXqDWjzJZ8LKg&s\n",
      "https://encrypted-tbn0.gstatic.com/images?q=tbn:ANd9GcTf3xt9KCyh1w9HyfaI1i63wHIq7ScFgsIWPw9kn68AlCYm02uOtLPv2KI-xg&s\n",
      "https://encrypted-tbn0.gstatic.com/images?q=tbn:ANd9GcRLPy3QwS0jCMjVBnQKVxT2ZcreouWx8ucI2qgB6aIZZp5b2OOwvg1werG46Q&s\n",
      "https://encrypted-tbn0.gstatic.com/images?q=tbn:ANd9GcRYaIC9mewj-25PH9akYjG-i-GwDfG1Mta7y2DO6evHiTr0ss-HRgWUJjjUIX0&s\n",
      "https://encrypted-tbn0.gstatic.com/images?q=tbn:ANd9GcTPFy7H7szVGCpqs7x3RWw9MfLYrYAhYttz8J8_up-w6jn4cxLvF7lMQymp2A&s\n",
      "https://encrypted-tbn0.gstatic.com/images?q=tbn:ANd9GcS_nFvBVh2HsOVc9JFkUkpm62PDgOmDVuMenbk4mz-jjaBFWwVx32_ty1WTapg&s\n"
     ]
    }
   ],
   "source": [
    "for i in image_tags:\n",
    "    print(i['src'])  # printing all source links"
   ]
  },
  {
   "cell_type": "code",
   "execution_count": null,
   "id": "66af5f6d-3ab8-4ed4-b282-eecf728ed545",
   "metadata": {},
   "outputs": [],
   "source": []
  },
  {
   "cell_type": "code",
   "execution_count": 37,
   "id": "6abad8a1-0a99-40d4-8030-fdca89647d4a",
   "metadata": {},
   "outputs": [
    {
     "name": "stdout",
     "output_type": "stream",
     "text": [
      "0\n",
      "1\n",
      "2\n",
      "3\n",
      "4\n",
      "5\n",
      "6\n",
      "7\n",
      "8\n",
      "9\n",
      "10\n",
      "11\n",
      "12\n",
      "13\n",
      "14\n",
      "15\n",
      "16\n",
      "17\n",
      "18\n",
      "19\n"
     ]
    }
   ],
   "source": [
    "for i in image_tags:\n",
    "    print(image_tags.index(i))"
   ]
  },
  {
   "cell_type": "markdown",
   "id": "0ecc8e63-6e40-4f3d-ba2c-9297871316dd",
   "metadata": {},
   "source": [
    "## here converting first image link into binary form using requests.get(\"link\").content"
   ]
  },
  {
   "cell_type": "code",
   "execution_count": 40,
   "id": "4e5061c4-e5de-43ba-95bf-4761fb3fe056",
   "metadata": {},
   "outputs": [
    {
     "data": {
      "text/plain": [
       "b'\\xff\\xd8\\xff\\xe0\\x00\\x10JFIF\\x00\\x01\\x01\\x00\\x00\\x01\\x00\\x01\\x00\\x00\\xff\\xdb\\x00\\x84\\x00\\t\\x06\\x07\\x08\\x07\\x06\\t\\x08\\x07\\x08\\n\\n\\t\\x0b\\r\\x16\\x0f\\r\\x0c\\x0c\\r\\x1b\\x14\\x15\\x10\\x16 \\x1d\"\" \\x1d\\x1f\\x1f$(4,$&1\\'\\x1f\\x1f-=-157:::#+?D?8C49:7\\x01\\n\\n\\n\\r\\x0c\\r\\x1a\\x0f\\x0f\\x1a7%\\x1f%77777777777777777777777777777777777777777777777777\\xff\\xc0\\x00\\x11\\x08\\x00\\x8c\\x00r\\x03\\x01\"\\x00\\x02\\x11\\x01\\x03\\x11\\x01\\xff\\xc4\\x00\\x1b\\x00\\x00\\x02\\x02\\x03\\x01\\x00\\x00\\x00\\x00\\x00\\x00\\x00\\x00\\x00\\x00\\x00\\x04\\x05\\x03\\x06\\x00\\x01\\x02\\x07\\xff\\xc4\\x00;\\x10\\x00\\x02\\x01\\x02\\x05\\x01\\x06\\x05\\x01\\x05\\x08\\x03\\x01\\x00\\x00\\x00\\x01\\x02\\x03\\x04\\x11\\x00\\x05\\x12!1A\\x06\\x13\"Qaq\\x142\\x81\\x91\\xa1\\xb1\\x07BRb\\xc1\\x15#3r\\x82\\xd1\\xe1\\xf04\\xa2\\xf1$\\xff\\xc4\\x00\\x1a\\x01\\x00\\x03\\x01\\x01\\x01\\x01\\x00\\x00\\x00\\x00\\x00\\x00\\x00\\x00\\x00\\x00\\x03\\x04\\x05\\x02\\x01\\x00\\x06\\xff\\xc4\\x00(\\x11\\x00\\x01\\x04\\x01\\x04\\x02\\x01\\x03\\x05\\x00\\x00\\x00\\x00\\x00\\x00\\x00\\x01\\x00\\x02\\x03\\x11!\\x04\\x121Q\\x13\"A\\x14a\\xa1\\x05#R\\x81\\xf0\\xff\\xda\\x00\\x0c\\x03\\x01\\x00\\x02\\x11\\x03\\x11\\x00?\\x00\\x02\\xbeq\\x92\\xe5\\xa4\\xa9C;O\\xa1H\\xdc\\x03\\xb5\\xbe\\xc0\\xdf\\x1cMV\\xe5\\x1a\\xa8\\x99%\\x00\\xd8\\x94\\x9c\\x04\\x84\\x90HR\\xa5Hc\\xbfVS~\\x06\\xd8Y\\xda\\x98\\xa7\\x9a\\xad\\xe4\\x8d\\x8c\\xb0\\xb9I;\\xa0\\xe4\\xee\\xbb\\xed\\xeaE\\x87\\xda\\xf8&\\x97+\\xab\\xab\\x13\\xd1\\xac\\xb5OItjY\\x165}@\\xb1c\\xfb\\xc0\\x03\\xd2\\xfcl:[\\n\\xd8\\xbc\\x14\\x94Z6\\xf8\\xf7&\\x89\"\\xbd\\x1c\\x15\\x08,\\xafbV\\xdc\\x0bq\\xfabH\\xc99t\\x80\\xdc\\x9dEo\\x8e#\\xa0\\xa8\\xa2\\xa0X^9\\x04}\\xe1\\xb6\\xabq\\xd2\\xe2\\xf8\\x9e\\x14\\xb4zz\\x13\\x7f\\xce\\x1bn@R\\r\\x87\\x90\\x84\\x86\\x96\\xfb\\x91\\xbf\\xb6\\x18EJ4\\xd8\\x8e\\x98\\x9e\\x9e\\x1b\\x90\\x00\\xc3Zj\\r[\\x91\\x81\\xcb;X\\x98\\x82\\x02R\\xe8h\\x91P\\xcc\\xc8\\x18\\x03\\xa5P\\xf0\\xc7\\xcf\\xe9\\xfdF$-Q\\xfcd/\\xf0\\xaa\\x80\\x07\\xd3\\x0f\\x1e\\x928\\xa1E\\x7f\\x9a\\xe4\\x84Qv#m\\xc0\\xf4\\xb7\\xe7\\x03\\xe5\\xebO\\x98\\xc0\\xf2\\xd3\\x0b\\x80\\xc5H6\\xba\\x90ln=\\xc1\\xc2\\'\\\\\\x01\\xb5@i\\\\\\x05\\x84\\xa1\\xe0\\x86\\xa4i\\x99\\x15$\\xe9\"\\x8b\\x0f\\xaf\\xfb\\xe1m^^c},\\xbb\\x8cY\\xea2\\xf6PN\\x8d\\x87\\xa6\\x05\\x9e\\x1e\\xf2\\x11qy#\\x16\\xf7\\x18b9\\xda\\xf4\\xbb\\xe1\\xed!\\x80wP\\xc7\\x10Q\\xe2\\x9bSj\\x1d6\\xc3Zjzi\\xbb\\xe7\\x9du\"\\x15\\xf1sn\\x96\\xf6\\xf3\\xc0\\xaf\\x18\\xd4/\\xc07\\xb60\\x89\\xa1\\xcb\\xaa\\xbe\\x1c\\xa9yo\\x1a\\x83\\xd2\\xfb_\\xf21\\xb7\\xe3+\\x0c\\x14iWj\\xbbQT+\\xea)h\\xfb\\xc8\\x92\\x00\\xf2\\x06\\x87O\\x8a\\xd6\\xb5\\xee6\\x1b\\xdc\\x9d\\xfd\\x8e\\t\\xc8\\xf3\\x993J\\xa9\\xf2\\xac\\xce3\\xf1i#\\x88\\xe4\\xd2\\x06\\x90\\x0e\\xcal\\x07\\xfd8\\xe7&\\xcai\\xa9*$\\x929\\xd6\\xa1\\xe5\\x8d\\x97N\\x93r6\\xe0\\x1b\\x126\\x1b\\xd8c\\x8a\\x8c\\xbeX\\xf3\\x84\\xcc4\\x7fw\"\\xae\\xa6C{\\xb0\\xd8\\xf1\\xec\\t\\xf2\\xc0\\x03\\xc5\\xed\\xac\\xa6\\xde\\xc7\\x06U)$\\xa4e\\x91\\x97\\xc3\\xb1#\\x8ck\\x06\\xd4O\\x1bTJ{\\xb7\\xdd\\xc9\\xd8\\x0f?|f<\\x94\\xda\\xd5\\xaa3*QM,\\xb1\\xd3\\xcbLJ\\xa1\\x05\\xc2j;\\x006\\xb9\\x0c-\\xc9\\x1aH\\xf78\\x9e\\x19\\xeaV\\xa3\\xbfF\\x81a}d(m\\xd4\\x0b\\x00\\xaa<\\x86\\x95\\xde\\xdbi\\x1c^\\xd8\\x06\\x96\\t#\\xac\\x88\\xcb\\x10\\x06\\xe0\\x83\"\\xdb\\xc3\\xbe\\xfb\\xf4\\xc6\\xfb\\xb3\\x15L\\x80\\xae\\x86\\x04\\xa9[\\xee\\xbe\\x87\\xdb\\x1d\\x8e;\\x94\\xb0|\\x0eSR\\xea+H$#$\\xd7\\xe1\\x1f$\\xf2U-\\xe47e7\\xdf\\xae\\'\\x81u\\x1b\\x01\\xb1\\xdf\\x02S\\xa8\\xbe\\x1b\\xd1Gr6\\xc3n\\xf4j\\x99\\x10\\xde\\xeb(\\xfc\\xbe\\x96\\xe4\\x12\\xb8\\xb1\\xd1\\xd1\\x81m\\xb0&Y\\x0e\\xcb\\xb6\\x19V\\xd5.]E5I\\x01\\x8cI\\xa8/\\x99\\xe3\\x10\\'\\x91\\xd2>\\x95\\xe8\"\\r\\x0b\\xcf\\xbb[\\x98QV\\xe7\\x0b\\x07\\xc4\\x88e\\xa6\\xff\\x00\\t\\xb5\\x1d\\x0fk\\x83r:\\xdf\\xa0\\x17\\xf7\\xde\\xdd\\xf6l\\xc5\\x96U\\xd3,-$\\xd1D\\xba%*\\xe4\\x80\\x08\\xdbs\\xcd\\x89\\xc2<\\xce\\xad`\\xa2\\x81\\xebh\\xe5\\x12\\xc9#\\xb41\\\\\\x061\\x0b(f\\xd5\\xc2\\x92E\\x8d\\x8f\\xc8v\\xc7t\\xf5)UO\\xa4\\xc1$H\\xc0\\xa3/|\\x08\\xb1\"\\xebp\\xa0\\x91c\\xce\\xdcos{\\x9eF\\xb43\\x9aN\\x81\\xf1J\\xe3SB\\x93\\xf6\\xc0T\\xc7#L\\xa2\\x94\\xdfK\\xde8\\xce\\xc0m\\xc6\\xaf\\x9c\\xdf\\xc8\\xfb^y\\xe1\\xee\\xe4\\rl\\x15\\xd9\\xa6\\xa7z.\\xea\\x05P\\xcb`|\\xd8t\\xbf\\xfd\\xe9\\x82+\\xe1\\x16\\xe3\\x9c*\\xd9\\xfd\\x81o\\ti\\xe3\\xedT\\xeb`\\x11\\xca@\\xe0\\xee1\\x14\\xf4\\x94\\xb3Q\\x98f\\x94\\x83 \\xd4H6\\xb7\\x18e\\x98FLw\\xb5\\xc8\\xc2\\x8a\\x94\\x07O\\x04\\xf1\\x8b-\\xfd\\xc6\\xda\\x94\\xff\\x00R\\x84\\x9f\\xb31F\\xe2\\x18\\xeb\\x10w\\xa8\\x16\\xc8\\xa6\\xc6\\xc2\\xfb\\x8e6\\xb7$_{`\\x192\\xfae`\\xcdP\\xa5\\xc1\\xb5\\xd16\\xdb\\x7f\\x96\\xf6\\xf6\\xb0\\x07\\xa7Sv\\x92TH\\xb5\\x0c\\xe0\\x92\\xc6=\\xdb\\xf8v\\x1b\\xe1ME\\x95\\xd8)\\xf0\\x87\\xb8\\xf5\\xc0\\xcb\\x084\\n\\xf3\\xf5/#\\x95\\x8d\\x123\\x16\\x12lM\\xf7kc1\\x06\\xa6\\xf2?lf1N@\\xb5+L\\x06[<\\x13\\xca\\x88\\xcf\\x1b|(-g$\\x82X(\\xf2\\xf0\\xdf\\xd3o=\\x88\\xc8\\xe8*\\xbe\\x1c0\\xa2\\xef\\xaeN\\x95\\x9eS\\x11{\\xf8\\x85\\x8d\\xba\\x8b\\xef\\xc6\\x01\\xcc\\xa9\\xe9\\xf3\\x08\\xb4\\xc8\\xbe\\x08Y\\x16\\x10y\\xdb\\x9f\\xbf\\x07\\xdf\\x12\\xe5\\xf9\\x9dUT.\\x86\\x1axa#\\xf7\\x10jm@\\x16\\xbb\\x1d\\xecI7\\xf3\\xeaq\\xbd3\\xcc\\xa4\\xb9\\xb8%Y\\xd5\\xb2(acd6\\x1b\\x94\\xda\\x1d&C\\xa4\\x10\\x15\\x8a\\xe9nA\\x06\\xc4z\\xef\\xd7\\x0eh\\x06\\xe3\\x08\\xe9\\xb6\\x7f\\x178{BF\\xd8zf\\x9d\\x99Q -.\\xb0)Z\\xb2\\xe1\\xe0\\x16\\xc2_\\xda.m.Y\\x95Die\\xd1>\\xbdD\\x07\\xd2t\\xf1{\\xfb\\xe1\\xc6W( \\x0e\\xb8\\xf2\\xcf\\xda\\x9c\\xd2\\xe6\\xb9\\x8c\\x90R\\xe9\\x04&\\x80X\\x9b\\x9d \\xb5\\x87\\xb9\\x07\\xed\\x88\\r\\x175v\\xbe\\x86\\x01a<\\xec\\x9cT\\x95\\x12\\xdf8hM]F\\xfd\\xdc\\xf2\\x02\\xedq\\xc1\\xbe\\xf8\\xb1IK\\x96\\xc5\\x95\\xc0\\xb2E\\x05,\\xf2\\x82\\x16\\x17u\\x06\\xf7\\xf5\\xc5y2\\x99\\'\\xca\\xea*Fe\\xa6\\x9aB%\\x11\\x84\\x1e\\x1e\\xb6\\x03\\xad\\xef\\xcf8}?g\\xcdueU\\\\9\\xa3\\xc1,\\xaa\\x8b!TR\\xc9`8\\'\\xa1\\xf2\\xc3\\x9e\\x00pW\\x0b\\x8d\\xa5\\x9d\\x8d\\xadq\\x9aMJ\\xe7I\\x12<r#\\xde\\xe0\\x8b\\xd8o\\xeb\\xfa\\xe2\\xdd_\\xf2\\x1cy\\x93:e\\xdd\\xb1\\x9aQ#\\xab\\xcbQ\\xb4\\x84Z\\xe8\\x91D\\xb7\\xb0\\xdbf\\xbf\\x1eDb\\xfc3H+\\x90\\x98\\x8b+Z\\xe69Q\\x91\\xacz\\xe9`\\r\\xbd~\\x9c\\xdca\\x17i\\x8b\\x1f\\x8e\\x16\\xe66\\xdbK\\xaaH\\xd4T\\xf0v\\xc2z\\x85\\xee\\xd8\\x83\\xf4\\xc3*\\xc9\\x01ql\\x0b^\\x01\\x83Q\"\\xfc\\xef\\xe5\\x8a\\xdaq\\xb5H\\x90nH\\xaa_K\\x1fb0\\x14\\xb6\\xb07\\xb9$\\xdf\\xd3\\x05T2\\x93np\\x1c\\x96\\xbe\\x19so)\\x17\\xd8\\xc2\\xe3\\xe81\\xbcq\\xf5\\xc6c\\x1bW\\x14\\xbf\\x0f(\\x9cSi\\xf1\\xeb\\n\\x06\\xdc\\x93a\\xbe9\\xa3\\xa1\\xa9\\xa4B\\xf3E\\xa55h\\xd5~\\xa3a\\xb7@y\\x1ex\\xb0\\xd7P\\xabU\\xc1\\x98\\xa9\\xb5<\\x8c\\x19\\xc06\\xd3\\xd4o\\xef\\xb6\\r\\xcb\\xbb\\x9c\\xc3+\\xcc\\xe2\\x8fKG\\r\\xf4i:\\xb4\\xb5\\xb5\\x10\\x0f6\\xb9\\x1b\\x12l\\x7f\\x1e\\xdc\\x1a\\xe0\\x1a\\x13P\\xe9\\xdd$2n=$\\x90\\x03\\xb1\\xbe\\x1c\\xd2\\xbd\\xadl%\\xa7o\\x08\\xc1\\xe90\\x8du1\\xb0\\x1c\\x9c0\\xe26\\xd9JAa\\xd4\\x13\\xb7\\xccd\\xa4\\xa7-\\x15\\x8c\\x87\\xc2\\xbe\\x87\\x14\\x1c\\xce^\\xf7;\\xa1\\x0b\\x13N\\xd1?|\\xa8\\x18\\x02\\xef\\xbe\\x91sa{%\\xf7\\xfe/\\\\1\\xcc3\\n\\x9a\\x92\\xf1\\xc0\\x85\\x06\\x92#/u\\n\\x0e\\xc6C\\xe8:z\\xe0\\xae\\xcaP\\xd1\\xe6UY\\x85UTe\\xfb\\x84\\xb4H\\x06\\xe9\\xb6\\xde\\xc7N\\x93o_|Am\\x19\\xcc\\x83\\x85\\xf5Q7\\xc5\\x0f\\xb7*l\\xba\\xa1\\xe73\\xe5U\\xf34\\x15HmyT\\x0e\\xf4\\x11{\\x95k\\xf9\\xee\\x0e\\xfexv&\\xfe\\xca\\xa5)%T2H\\xdb$p\\x05\\x03o \\x14~p\\x8e\\\\\\x8a\\x82\\xa2\\x9cD{\\xa4\\x90|\\xa5J\\xa9\\xdb\\xae\\xdfM\\xc7\\x9e\\r\\xc8\\xb2\\x04\\xca\\xc3\\xcf0\\xd6\\xea6gm[\\x1e\\xb7=1B\\xbei.dp;U74J\\xaf\\x88\\x8eZ\\xfa\\x88\\x96I\\xe2f\\x92 |HYHA`8\\xb7\\x9977\\xf2\\x16q\\xfb>\\xaf\\xff\\x00\\xf1TRK\\x0bG-\\xd6d&\\xf7e*\\xa0\\x83\\xecF\\x0e\\xce\\xa1\\xa2~\\xccVV\\xc0\\xd1<\\x94\\xb2\\x95\\xd4\\xadr,\\x00\\xb7;Y\\x87\\xd2\\xc7\\xad\\xf1X\\xca*\\xe4s-lpwH\\x91\\xf7\\xaaAk\\x95-f\\x07Q\\'\\xad\\xfe\\x98\\x04\\x92z\\x9b\\xf8G\\x11\\xf9\\x1bA]\\xa67$\\x8c\\x13ER\\xb4\\xf6\\x9eD\\x8d\\xc25\\x89\\x90]cP.\\xcd\\xef\\xb8\\x03\\xeb\\x85kV\\x1cx\\x81F\\xe7Klp-X\\x8a\\xae\\'\\x86\\xa1\\xe6\\x11[QX\\xa5)\\xa8\\x83\\xd6\\xd8,\\x83\\xcd\\r\\xc4iL\\x8c\\x88f\\xa9\\x10\\xb2\\xd4@\\xee\\xf2U\\xde\\x01+^\\x06T\\x1aY/\\xa7\\x81\\xd6\\xfc\\xde\\xdd0\\xbc\\xc9\\x14\\x8dh\\xde\\xed`J\\xdbu\\xf7\\xc1\\xbd\\xac\\xcb\\xab\\xa2\\xc9\\xe8+\\xf2u\\x12R\\xd2R\\xa2<#\\xe6\\x00o\\x7f_^\\xbf\\x9c\\x01\\x94AQ:\\xb4\\xb2@\\xf1\\xb4\\xa7\\xc3\\x1b\\xecTq\\xc7\\xbe7\\x11x ^\\x115\\xd0\\xc3\\xe2/h\\xca\\xee\\xcb\\xe5\\xf88\\xde-\\xb1d\\xb6\\x89\\x01T>\\x11\\x8c\\xc1\\xadK\\xf0\\xb9+\\xa1\\xa8\\x1545T\\xb3\\xc8\\xc3\\xc3}g{\\x01\\xb0\\xfam\\x8e\\xfb!P\\xf4\\x8b\\x99^\\xcd\\x11\\x9d\\x89@\\tnlO\\x90\\x06\\xdc\\x93\\x85\\xef\\x03\\xc1\\x19u\\x0cR@B\\x9f\\xe6\\x0c?\\xe7\\xef\\x85\\x91\\xb4\\x82\\xa2\\xaaH\\x1eT\\x9dYX\\x18\\xe5d\\r\\xbb\\xf8H\\x1b\\x10u\\x11\\xf5\\xc7dh\\xe4\"h&\\xda\\x08\\x7f\\xfb*\\xc7\\x99S\\xcd\\nG7q\\xdd\\xc4|!\\x94\\x0b\\\\{zu<\\xd8\\xe3\\xac\\xa5>2b\\x18x\\x17a\\x7f>I\\xfam\\x83r\\xbe\\xd2\\xd3UQ\\xa49\\x84\\x0b\\x1d+\\xc6WS\\xee\\x01\\x02\\xf6>|\\x1e\\x8aA[[pO1\\x8ajHuS\\x89\\x91%\\r\\xdd\\xdd<7?\\xcd~8\\xfb`o6\\x03O\\t\\xc6i\\xaao \\xe1MS\\x96\\xc5%-M\\xef\\xde\\xc8.X\\xdbe\\xbb\\x7fE\\x18\\xab\\xe5_\\x19I58\\xa1\\xa80\\n\\x98^j\\x93\\xabI\\xb9cg\\xbd\\xf7\\xd8Z\\xdeX\\xb9\\xd4Bd\\xa6\\x90\\xc7}R\\xa11\\x80\\x00\\xbe\\xab\\xed\\xc5\\xef\\xe2?\\x8c\\t\\x1eMAQ\\x99\\xe5\\x90\\xd7B\\xae\\xd0\\xc0\\x03 b\\xb7ku\\xb7\\xd7\\x9cO\\x00Y\\x01Y\\x93hh\\'!$\\xca\\'X\\xbe\\x15\\xab\\xf2\\xdaG\\xef\\xa2\\x1aj\\xe7\\x1a\\x95Ks\\x19\\xe0\\x0b\\xfe\\xef\\x04\\x83\\xe6\\xady3ZSNY27Z)\\xe4B\\x7f\\xb3f%\\xa3`my#\\xbf\\xc8\\xc0\\xed\\xbf\\x86\\xe4rH\\x18\\x8e\\xbe\\x1f\\xec\\xac\\xd2\\xa2\\nIe\\x84\\xac\\x8d\\x191\\xd8\\x93\\x19$\\x85\\x17\\xda\\xd6\\x1b\\x83\\xe1>\\x1b\\xec\\t\\x02\\xe6\\x93\\xd0\\xc9O-&_&\\x8aYP\\x89\\x1a\\x08#\\x89\\x10\\x9f\\x99\\x99@\\x17:C\\x01\\xc9$\\xf2\\x01\\xdd\\xab\\x16>\\xe9j\\xf9PI\\x96\\xd4CA!\\xac\\xcb\\x0e_\\x97\\xb9R\\xe5\\xe5\\n\\x91\\xad\\x80\\xb2\\x9bx\\xc9\\xb6\\xe7\\xe67\\xd8oq\\xdeON\\xd3\\x03Xc)\\x1fy\\xfe\\x1d\\xfeX\\xcd\\x86\\x93\\xe7\\xe1+\\xbf\\x9d\\xf0\\xdf\"\\xcb \\xa7\\xecvp\\xd5:\\x0c\\xc2&\\x85\\xa5\\xe0\\xa0*<*G\\nn\\x08\\x03\\x90F\\xd7\\xdb\\x11\\xe6\\xf5\\xe9\\x95et\\xb4a@\\xf8\\x87\\xee\\xd7\\xbb\\x16\\xd1\\x7f\\x97oalO\\xd4\\xc8w\\x08\\xda2J04\\xd2BgW\\x96\\xa4\\x14\\x88b_\\n%\\x90\\xdf\\x81\\xd0a\\x19\\x8a\\xa2H\\xdahaw\\x8dHWp\\xa7H\\xbf \\x9f;b\\xefG\\x17\\xc4e\\x02\\x19H\\xb3&\\x9b\\x91\\xe69\\xc57,\\x88\\xd1g\\xf9i\\xae\\xef\\x16f\\x91\\xe1\\x10\\xca\\x15\\xa3\\xd3\\xb9\\x0c\\x87\\x90\\xc0\\x80\\x08\\xfek\\xe1\\xd8c\\xf0\\x92\\x07\\x05O\\x96/1\\x04\\xf2\\x13*i\\xde\\x9a\\x8d\\xb2\\xca\\x950\\xc9\\x14`\\x97k\\x13f\\xea\\xd7 nz\\xfb\\x8e\\x87\\x01eR,y\\x881\\xbfz\\x11\\x0b\\x12\\xe0\\x0f\\x116\\xe0mm\\xf6\\xdc\\xf4\\xdf\\xae\\'\\xed\\x8dLU\\x95PS\\xb2\\xa9\\xee\\x98\\xc8\\\\\\x0f\\x12\\x01\\xe4y\\x17\\xbd\\xbe\\xb8\\x0e\\x96%\\xa7\\xa1\\x0e\\xa0\\x07\\x98\\xec-m(\\x14\\xdb\\xf5\\xfd0Y\\x05\\x0c \\xcf(\\xa0\\xce\\xb2\\xb76|\\xcb4\\x80\\xd8\\x90\\xc4^\\xf8\\xcc%(\\xb77$\\x9flf9\\xe2=\\xa4<\\xe5\\\\(\\xab\\xe1\\x9a\\x8e6\\xa8X\\xc5\\xe5(\\xc0\\xefv\\x1do\\xe7c\\x84\\xd4\\xb4KW\\x9e\\xe6Q*\\xf7`h\\xb2\\xa8\\x00\\r\\x87\\xf58[I\\\\\\xefN\\xd4\\xf7\\x03\\xbbp\\xcaz\\xdc\\xdf\\xef\\x832\\x8a\\xd2s\\x9a\\xb9\\x1eK\\x19\\xa0\\xb9n.K(\\xb8\\xc3U\\x9b\\x0b0H\\x1c\\x1c\\xd7t\\xbbL\\xbe\\xa6\\x1c\\xd3\\xe1\\xe0\\xb3]\\xbcJ5y\\x03qb\\x08\\xe89\\x1fk\\x8cX$\\xcbj\\xd15\\xc7A*2\\x8dR\\xb3\\xce\\xde1\\xd6\\xf7v\\x0f\\xb6\\xc00l\\r\\x1ed\\xd4\\xfd\\xa1\\x99{\\xb2\\xcc\\xd0\\xa1B\\x07M\\xef\\xf9\\xbe\\x1d\\xcd\\x99:\\xc1\\xaag\\x08<\\x878\\xe1m\\x8bT\\xe2v\\xd6\\x00\\x10P\\xe6\\x1d\\xc54d/|\\x10\\x92\\xa4-\\xb4\\xfaqqm\\xf9\\xc4\\x19d\\xce\\xb5\\x94\\xb5U\\x1bOY8\\xd4u\\x03\\xa0\\r\\x95C\\x0e\\x9f\\xa9\\'\\x901G\\xcf{c4Y\\x98\\xcbr\\xf3\\x11\\x81\\x8e\\x99]\\x81=\\xd0\\xf2[\\x1b\\\\\\r\\xf8\\xd8\\xe1\\x86k\\x99TI\\x1coO0\\x8a\\x18\\xdd$W\\xb5\\x82\\x81k\\x8f\\xc8\\xe3\\x93n:\\xcc\\xd5\\x07nk[\\xf2r\\xa8\\xb0\\x17\\x0b)\\xcfk\\x90\\xc1\\xda2\\xe8\\xf1\\xc0\\xec\\x81\\xd2Fnl\\xa3\\x93\\xc8\\x04\\x81\\xb5\\x8f\\x00\\xf4\\xc2\\xaa\\xa1;\\xf7\\x14\\xd2i\\x85^\\xf2\\x87\\xa6\\xbd\\x88\\xd6\\xa4\\xf8\\x89\\xe4\\xdf\\x9ew\\xe861O3T\\xe6\\xe6J\\xc9\\xc5D\\xb51\\xad\\xc9{\\x06`Xi\\x1e[\\x16a\\xbf\\x97;`\\xdc\\xc2\\xd1P\\xadK\\x85H|R\\xc4\\xf0\\x87\\xd2Q\\x97\\x9d^\\xc7\\xd7\\xd2\\xfbcd8\\x96\\x16\\x85\\xa06\\x82\\x1c\\x9dez`\\xec~a,1\\\\\\xce\\xec\\xc6=W\\'{\\x11{z\\x1cS{}W\\t\\xac\\xcb\\x86\\xa0\\x96\\x95\\x12\\xff\\x00\\xc2\\x00\\xbd\\xcf\\xb1a\\xf4\\xc1YAI#\\xa6y*d\\xef\\xe4\\x7f\\x89x\\x85\\xc0[\\xdc\\xd8\\xf4\\xe7\\xd7\\t{c\\x11\\xaa\\xed\\\\\\x023\\xae.\\xeb\\xbcU\\xf3\\xbb0#\\xdc\\xe9\\x03\\x00`\\x0e\\xd5_@\\xac\\xd14\\xdb\\x19\\xe9Y\\xa4\\xce*Lp4t\\xf55Q\\xc3N\\xda\\x8d\\xfb\\xb1\\x1b\\x92\\xbal\\xa4\\x8dG\\xcc\\x9b\\xecv\\xb5\\xce\\x18g\\xcehf\\xa2\\xad\\xadR\\xeeU\\xcc\\x0e\\x1d\\xa4\\xf1\\xd9o\\xbb\\x12uz\\x0bs\\xd7\\xa2\\x0e\\xcf\\xeb\\xcb\\xaa\\xa9\\xb5J^\\x9e\\xac\\x08\\xf50\\xb9V\\x03\\x83\\xe8W\\xf48\\xf4\\nl\\xbe\\x1a\\x8c\\x90e\\xf2\\x12\\x05\\xcbD\\xdc\\xf7g{[\\xd2\\xc6\\xd6\\xc5\\x16S\\xc5\\x8e\\x12\\xd2;e\\x80\\xa9\\xb4Je\\xa8j\\xca\\xb8\\xd2@A-\\x1bX\\x8b\\xdbe>\\xdc\\xfb\\xe29\\xea$$\\xa0\\r\\xa8(UP\\xb6\\xeb}\\x87\\xd8a\\xb8\\xc9\\r;hi\\xca\\xe9\\xba\\xbai\\xdc\\x91\\xd0\\x11\\xcf\\xf5\\xc7\\x08!\\xa7~\\xe2;\\xea\\xd7\\xa9\\xd9\\xb9P9\\xbe4\\xea\\xa5\\x1d\\xc1\\xe4\\xdb\\x90k\\x93\\xce\\x00\\x04\\xad\\xfd\\xf1\\x98\\x9eJ\\xe8\\x12FVu\\xba\\x92\\x0e\\xc7\\x19\\x81\\xdc\\xbfe\\xdd\\x91v\\x90\\xe5\\xf9l\\xba\\xa7y\\x9cF\\xa8\\xa6\\xec\\xa0\\xc8|\\xee\\x02\\x83\\xb0\\xc1yu\\nT\\xf6\\x82\\x9a\\n:\\x8e\\xf1&\\xcb\\xc3\\tt\\xec\\xde!\\xbf<X\\x0f\\xb6$\\xcak\\xe6\\x14\\x95iO\\x00uy\\x00c\\xde  )o3\\xb87\\xc4=\\x9fV\\xa5\\xed\\x05\\x17y\\xe2\\x93\\xe1\\xe4\\x8da\\x8d\\xef\\xaa\\xc0\\xb1\\xb9\\x1d1\\x98e\\x16\\x1by\\xcf\\xf4\\x9d\\xfa1\\x1b\\t\\xaf\\x85b\\xcc\\xf2\\x99\\x9a\\xa6:\\xb6\\x9ax\\xe7D+\\xaa\\x1bY\\x81\\xb7B\\x0fQ\\xfa\\xe1Nm\\x04\\xf0\\xd3\\x16i\\xe5y\\x9f\\xc2\\x88O\\x1e\\xa7l8\\xcd\\xbb[C\\x97]*%\\x8cOm%#q\\xa5~\\xbd\\x7f\\x18Lk\\xa8\\xb3M/\\x1c\\xc8\\x0e\\x9d\\x97P\\xb8\\xe0\\xee>\\xc7\\x1e\\xd5\\xcd\\xb2<r\\xbd\\xa5k\\x9d \\xe8/7\\xce!\\x8e\\x930\\x8aH\\xce\\xaf\\x1e\\xa2\\x1f}\\x83\\x1b\\x1f\\xae\\x9b\\xe0\\xcaJ\\xe9\\x04e\\x84\\x0f,mpY\\xdc\\x00:\\xdf\\xd3\\x9f\\xd3\\x06\\xe6\\x19L\"\\xb6wi\\xd6\\xec\\xaa\\xa9\\xe3\\xb1\\x0b\\xd4q\\x88\\x9fE\\x1d/\\xf7FB\\xa0t\\xe1\\xbd\\xae8\\xe7\\x8b\\xfb\\xf9\\xe0=\\xaf`\\xac\\xab\\xf1\\xc4\\xd3\\xec\\xf3A^?i9T\\x14\\x99~MYAN\\x91\\x83!I\\\\\\x1b;\\xddn\\x06\\xa2\\x7f\\x97\\xf3\\x8a\\xc1\\x9a\\xb2\\xa2\\xba\\x9e)\\xfe)\\xd2\\xaa\\xa3\\xbb>0\\xc2\\xcc\\xc0\\xdf\\x9d\\x8e\\xcco\\xd6\\xe7\\xcc\\xe2\\xedR[\\xb4\\x7f\\xb3\\x88$\\xa7a<\\xb4\\xca\\xb2\\xb2\\x91\\xaa\\xfaA\\x0c-\\xe6\\x05\\xf6\\xff\\x00\\x9cV;\\r\\x08\\x93\\xb4Q\\x00\\xad\\x1c0\\x9dn\\xed\\xb6\\xab\\x03\\xc5\\xb6\\xb5\\xfdz\\x1cd8\\x80\\x85\\x18\\x84Bl\\xe4p\\xad\\xdd\\xb9\\xa9\\x82\\x96\\xb3/\\x82RU\\x16;\\x90\\x13\\x9e\\x96\\xfe\\xbf\\xfd\\xc5\\x07\\xb4\\x15\\t=k\\xd5$\\xf0D\\xd0\\xc6\\x04Q\\xbf\\x85\\xa5\\xbb\\x16\\xda\\xfc\\x9b\\x81\\xf7\\xc4\\xdf\\xb5\\x1c\\xca\\xb6\\xb3\\xb5\\x13\\xbd\\x13\\x88\\xe3\\xa7\\x85\\x13Z\\x0f\\x9c\\x1d\\xcb\\x03\\xe5\\xbfM\\x86*9\\x9b.\\x8aY\\x1c4\\x84\\xd3\\xa0f\\xe0\\xedp\\x7f7\\xfb\\x0cz-=;u\\xf2\\xb2\\x1d\\x1bc\\xbd\\xb9\\xed_\\xf2\\xf1\\xfd\\xa3D\\xff\\x00\\x0cu.\\xa1,D\\xf4a\\xbd\\xbfQ\\x8bNA\\x9c\\x89\\xe2\\x0b!\\xd3\"\\x9b\\x10y\\x04t\\xc7\\x99d\\x99\\xf5NSNLRC*\\xf4B8\\x1fC\\x7f\\xc7\\xdf\\r\\x17\\xb5\\x14s\\xd4\\xac\\xeb\\x1c\\xb4\\xb5`]\\x91\\xc7\\x86A\\xe8G_/\\xf9\\xc1\\xe1a\\x8c\\x10\\xa5\\xcc\\xe7\\x19\\t\\x03\\x0b\\xd2\\xb3y\\x1a%\\x8e\\xa1\\x14\\x9d^\\x16#\\xd0l~\\xc0\\xfd\\xb0\\x96\\xae\\xaf\\xe3hX\\xdfM\\xdb\\xbb\\xd4\\x17\\xcb{\\x1f\\xb0\\xc11\\xe79}of\\xcc\\xb2\\xc8LR\\xa5\\xc4\\x8a/\\xa0\\x83\\xcf\\xdfo\\xae\\x12\\xa5\\xa9\\xe9e\\x8e\\x17\\xef;\\xd2\\xb2\\x03}\\xc6\\xe2\\xd7\\xff\\x00N\\xfe\\xd8\\xdb\\x83m+\\xa8c\\xdb\\xed\\xf0\\x95KM#\\xc8\\xec\\xd3\\x0b\\x96$\\xf3\\x8d\\xe2&\\x9aB\\xc4\\xe9\\x1c\\xf9cX\\xc5\\xc6\\xa7\\xda\\x05\\xe9s\\xea8\\xa4\\x9e\\x9e\\x98|4\\x87R&\\xbd\\xd4yc}\\x98\\xcb\\xebs\\xdc\\xd1\\xe7\\xae\\x9eJX)5G \\x88\\xd9\\xa4,>P}\\xb7\\'\\xd8u\\xc3\\x86\\xed$r\\xd0\\x04\\x0e\\xba\\x00\\xe3\\x02v_6\\x88\\x99\\x87\\xca\\xbf\\x10I\\xb7\\x99\\x03\\x7f\\xb0\\xfca=\\x06\\xf9$>F\\x00{_K\\xaa~\\xd8\\xf0SL\\xc7\\xf6oI4\\x04\\xe5\\xf2:5\\xaf\\xa5\\x99\\x89>@\\x12N\\x17\\xf6w\\xb1g,\\xcc\\x1eL\\xca=z\\xc0j~\\xee\\xf2/\\xb1]\\xbc^\\xf7\\x03\\x17\\xba\\x1c\\xde\\tc\\x0b\\xde\\xae\\xa1\\xb5\\xba\\xe0\\xb3:\\xcc,\\xb2\\x84>}qP\\xc5x\\x05%\\x1c\\xa5\\x86\\xd0\\xb4\\x99p\\xf8Q\\x1cY\\x15\\x04(y\\x12\\xe9\\xd4}M\\x81\\xfdp\\xaeN\\xcad\\xd0T\\x9a\\x96\\xec\\xf5<\\xb21\\xff\\x00\\x0e9\\xfc\\x07\\xfd-a\\x87R,\\xec?\\xf3l?\\xcb\\x88i\\x92\\x03V\\x91\\xb5CH\\xfb\\x96c\\xb8P96\\xc6L-hD\\x1a\\xa9/\\x94\\x9a\\xb6\\x8b5\\x9a\\x9d\\xa9;?AO\\x96\\xac\\xa0+\\xd3\\x89#\\xd2w\\xbf\\nM\\x8e\\xc7{u\\xc6\\x1c\\xa6{\\xd2TU\\xaa\\xc4\\xf11\\n#\\x91\\x99u\\xda\\xc7\\x9f\\xd2\\xdc\\xdc\\xe1\\xac\\xb4t\\xe9\\x99N\\xb4\\xb9\\xa0FR\\xcc\\xeb,BB\\xc1@\\xb8\\xbd\\xeda\\xaf\\xd3\\xaf\\xbe\\x02\\xf8z\\x15\\xaf\\x95\\xa5\\xab\\x00*\\xeaW\\x85\\x02\\x92\\x89\\xe1\\xdc\\x9d\\xee-\\xbd\\xbf\\xdf\\ncu\\xa6<\\xc3a\\x17\\xcf)\\x83\\xc7C\\x99S\\x1al\\xda4\\xa8\\x8f\\xa1\\x93\\x95\\xf6=>\\x98N\\xdd\\x88\\xec\\x8a\\x10\\xf3\\x1a\\x86\\xd0,\\xb7\\xaaa\\xa7\\x7fC\\x85\\x19\\xb6W\\x9b\\x8c\\xf2zj|\\xc7\\xba\\xa5m/\\x13\\x05\\r#![\\xf8\\x89\\xeb{\\x8f\\xce\\x1bA\\xd9\\xd7\\xa7E\\x94^\\xb2O\\xde\\xef\\xdc\\xb7\\xd8\\x1d\\xb0\\xc0m\\x9b\\x08\\x06w\\xb4m\\x05$\\xed\\x17f\\xb2\\x81\\x97\\xd4\\xb6HUf\\x8a+@!v\\r!\\x1f\\xbaG\\x0c}y\\xbe#\\xec\\xb7a\\xa1i\\x04\\xd9\\xa34\\x8a8\\x81\\xd4\\xfd\\x89\\xdb\\xf4\\xfb\\xe2\\xe9\\x15Mtj\\x15ht\\xdb\\xf8@\\x03\\x07C,\\xf2\\x0f\\xef\\xb4\\xa5\\x86\\xdb\\xf1\\x8e\\xb620J\\xe4\\x92\\x97\\x8e\\x92\\x8c\\x93&\\xa6\\xa6\\xad\\x94Gv\\xa2P\\xa2*w\\xf1,M\\xb96\\xbf\\xbf=8\\xc49\\xd5\\x05\\x15=T\\xf1\\xa4\\xc6\\x90\\xb9\\x12\\r)u\\x04\\xeemn7\\'\\r\\xa9%\\x14\\xd1<\\x8eT\\x13\"\\xa8\\xbfK\\xb1\\xdf\\xec\\t\\xc2\\\\\\xeeA\\x98\\xca\\xaf\\x1b)X\\x90\\x06\\nw\\xb9\\xde\\xc7\\xdb\\x02\\x9d\\xc7g\\xa7+\\x92\\x01^\\xfc%?\\x06\\xc7\\x7f\\x8a\\xa2>\\xa5X_\\xff\\x00\\\\f8\\xd5\\x10\\xd8\\x83\\x7f\\xf3\\x1cf\\x12\\xfd\\xfe\\x82\\x9fZuR\\xa9\\xec\\xe5t\\x91\\xc9<\\x12F\\xca.I\\x994~o\\xbf]\\xce \\xa2\\xcb3j\\x10\\x93\\xd3Fj\\x04\\xe0j\\x0bn\\xe5\\x97\\x91b?Q\\x8fE\\x89#Z\\x85\\r\\x1a\\xc9\\xde\\x1b\\x93%\\xcd\\xac6\\xb62\\xa6p\\xfd\\xd6\\xa8 $J\\x15IK\\xe9\\xf6\\xc6F\\xb6V\\xb7u\\x02\\x15M\\xed>\\x8eTX\\xab\\xe7\\xf1K\\x0c5\\t\\xdd\\xf8_C\\t\\x14\\x1f\\xa7\\x18.>\\xd2VS2\\xddj\\x89 XwG{\\xf1\\x8bX\\xaa\\x91\\xe4\\x94\\xb8R\\x15l\\xab\\xc0\\x1e\\xb6\\x18\\x9e8Q\\x84\\x00\\xaa\\xea]\\xc3\\x94R\\xdc\\xf9\\x91\\x8e\\x8f\\xd4\\x1c\\r\\xed\\xfc\\xac}<w\\xf2\\xa93\\xf6\\xc36\\x9d\\x84T\\xf4\\x93jc`\\x1fk\\x9c\\x1d\\x94g9\\xb5\\x145\\x95\\x19\\x92F\\x92\\xb3E\\x12\\xc7\\xabp\\xacX\\xb5\\xf7\\xfePqn\\xa9h\\xc4e\\xcd<\\x0c\\xd1\\x90\\x14\\xba^\\xd7\\xe4\\xfb\\xe2\\xad\\xdb\\xd9\\x9d)(\\xe1R\\x02\\x19\\t\\xd8[\\xa5\\xbf\\xae7\\x1e\\xb4\\xcev\\xed\\xa5\\xd9\\x18\\xc8\\xdb\\x8eS\\xae\\xcf\\xd4\\xd3N\\xc6\\x9cK\\x13<\\x9a\\x93Adf\\x17\\xbd\\xc1R\\xaa\\xdd8\\xdf\\x04\\xe6\\x94\\xf0\\xe5\\xf4\\xd3J\\xcd\\nA\\nib\\x81\\x12\\xea\\xc0\\x81`\\x14\\xb1\\xdc\\xf4#\\x08\\xbb\\x1f\\xa4e\\xab\\xa68\\xd2H\\x9d\\x88\\x99\\x14,\\x84xn\\x0b\\r\\xecu\\x1d\\xb0\\xe75\\xaa\\xa8\\xa8\\xc8s\\xb2fx\\xc41.\\x95C\\xb1\\r\\xa9H7\\xbe\\xd6\\x8cq\\xe6q\\x9f\\xa3\\x1b\\xf7^:L5\\xe0\\xb3\\x8c\\xaa\\xc6s_\\x9a\\xd4\\x0c\\xbe\\xb3.\\x8cH\\xa2\\x16\\x0e\\x1bb|E\\x87__\\\\j\\x93\\xb6\\xd9\\x8d:Z\\xaa\\x82\\xa1U>fPX\\x0c9\\xec\\xcbi\\xcb\\xe9ceWF\\x90-\\x9c^\\xde\\xd8\\xdee(\\x15\\xb5j\\xb0\\xc4\\x14x\\n\\xe9\\xd9\\x87\\xa8\\xc7\\x8e\\xb0\\xc4\\xf2\\xcd\\xbc!\\xc2\\xc8\\xe4h\\xbePG\\xf6\\x84\\x16\\xea\\xfa\\xd1\\x80\\xbd\\x9e6\\x07\\xf4\\xc0\\xb2\\xf6\\xeaIM\\x96k[{,NO\\xe9\\x879Ti[;\\xc5(\\xb2\\xc7\\xb0\\xd3\\xc9\\x1eD\\xf5\\xc3\\x0c\\xc2(2\\x9aE\\x92\\x96\\x9e\\x02C\\x01g\\x8c\\x10w\\xb6:\\xff\\x00\\xd4h\\x86\\xd1\\xcf\\xdd{\\xc3\\x1d]\\x95N\\xad\\xed=fa\\x04T\\xb4y|\\xb2*x\\x88\\xd0l\\xf2\\x11b\\xed\\xd4\\xfa\\r\\x85\\xb6\\xc2\\xec\\xb6\\x9b1\\xef&\\xa9\\x92s\\xa9$\\x1a\\x90\\xcb\\xa0_\\xca\\xc4Xc\\xd0\\xe9\\xb39\\x15\\xa2u\\x86\\x10\\x1e\\xc4\\xa0S\\xa4_\\xc8_\\x1b\\xad\\xab\\xbdLd\\xd3\\xc0u\\xc2\\xb2n\\x9c\\x12\\xb7\\xb7\\xb6\\x04\\xedc\\x83l3\\xf2\\x88<uG*\\xb1\\xa2\\xbclc\\xa6\\xdb\\xcd\\xda\\xf8\\xcc4n\\xd1\\xd5\\xa9*\\xb0R\\x806\\x1f\\xdd\\x9f\\xf7\\xc6`\\x7fQ\\'A\\'\\xe1\\xd2\\xff\\x00\\x15\\xff\\xd9'"
      ]
     },
     "execution_count": 40,
     "metadata": {},
     "output_type": "execute_result"
    }
   ],
   "source": [
    "requests.get(\"https://encrypted-tbn0.gstatic.com/images?q=tbn:ANd9GcTLNdfjEQVCuRW9p7XOh3STeNoHneCuZHGWDt-bovDbXp2xsqkdioMe4amOEa4&s\").content\n"
   ]
  },
  {
   "cell_type": "code",
   "execution_count": 41,
   "id": "db52378c-8c12-494c-8b9f-8397b1130a43",
   "metadata": {},
   "outputs": [],
   "source": [
    "save_dir=\"images/\"                        #saving images in directory \n",
    "if not os.path.exists(save_dir):\n",
    "    os.makedirs(save_dir)"
   ]
  },
  {
   "cell_type": "code",
   "execution_count": 44,
   "id": "6a3336a6-1e05-4873-8d8a-e4581bda3e7c",
   "metadata": {},
   "outputs": [],
   "source": [
    "#for i in image_tags:\n",
    "   # print(image_tags.index(i))"
   ]
  },
  {
   "cell_type": "code",
   "execution_count": 45,
   "id": "7e0d51ed-81a4-453a-bc62-a58b443f0ec9",
   "metadata": {},
   "outputs": [],
   "source": [
    "for i in image_tags:\n",
    "    image_url = i['src']  #src=source\n",
    "    image_data = requests.get(image_url).content  #binary form of images with req folderuest.get \n",
    "    with open(os.path.join(save_dir,f\"{query}_{image_tags.index(i)}.jpg\"),\"wb\") as f:  #saving image (save_dir,f\"{query}_{image_tags.index(i)}\") folder\n",
    "        f.write(image_data)"
   ]
  },
  {
   "cell_type": "code",
   "execution_count": null,
   "id": "62089d70-3936-491c-bfbf-c9ac6637b972",
   "metadata": {},
   "outputs": [],
   "source": []
  },
  {
   "cell_type": "code",
   "execution_count": null,
   "id": "4fea424c-b171-40ba-88ec-5b811dc31ebc",
   "metadata": {},
   "outputs": [],
   "source": []
  },
  {
   "cell_type": "code",
   "execution_count": null,
   "id": "80a50177-2c22-41c2-888a-f28c0d770841",
   "metadata": {},
   "outputs": [],
   "source": []
  }
 ],
 "metadata": {
  "kernelspec": {
   "display_name": "Python 3 (ipykernel)",
   "language": "python",
   "name": "python3"
  },
  "language_info": {
   "codemirror_mode": {
    "name": "ipython",
    "version": 3
   },
   "file_extension": ".py",
   "mimetype": "text/x-python",
   "name": "python",
   "nbconvert_exporter": "python",
   "pygments_lexer": "ipython3",
   "version": "3.8.0"
  }
 },
 "nbformat": 4,
 "nbformat_minor": 5
}
